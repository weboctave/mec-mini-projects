{
 "cells": [
  {
   "cell_type": "markdown",
   "metadata": {},
   "source": [
    "# Anomaly Detection of Retail Store Sales\n",
    "\n",
    "This hands-on mini-project will enable you to reinforce your learnings pertaining to anomaly detection in this unit. By now, you must already be aware of the key objective of anomaly detection. Just to refresh your memory, anomaly detection is the identification of outliers or rare event items in a dataset which potentially exhibit abnormal behavior or properties as compared to the rest of the datapoints.\n",
    "\n",
    "There are a wide variety of anomaly detection methods including supervised, unsupervised and semi-supervised. Typically you can perform anomaly detection on univariate data, multivariate data as well as data which is temporal in nature. In this mini-project you will leverage state-of-the-art anomaly detection models from frameworks like [__`scikit-learn`__](https://scikit-learn.org/stable/modules/outlier_detection.html) and [__`PyOD`__](https://pyod.readthedocs.io/en/latest/index.html).\n",
    "\n",
    "\n",
    "By the end of this mini-project, you will have successfully applied these techniques to find out potential outliers pertaining to sales transactional data in a retail store dataset and also learnt how to visualize outliers similar to the following plot.\n",
    "\n",
    "![](outlier_ex.png)\n",
    "\n",
    "We will be performing anomaly detection on both univariate and multivariate data and leverage the following anomaly detection techniques.\n",
    "\n",
    "- Simple Statistical Models (mean & standard deviation: the three-sigma rule)\n",
    "- Isolation Forest\n",
    "- Clustering-Based Local Outlier Factor\n",
    "- Auto-encoders"
   ]
  },
  {
   "cell_type": "markdown",
   "metadata": {},
   "source": [
    "# 1. Getting and Loading the Dataset\n",
    "\n",
    "The first step towards solving any data science or machine learning problem is to obtain the necessary data. In this scenario, we will be dealing with a popular retail dataset known as the [SuperStore Sales Dataset](https://community.tableau.com/docs/DOC-1236) which consists of transactional data pertaining to a retail store.\n",
    "\n",
    "#### Please download the required dataset from [here](https://community.tableau.com/docs/DOC-1236) if necessary, although it will also be provided to you along with this notebook for this mini-project\n",
    "\n",
    "Once we have the necessary data, we will load up the dataset and perform some initial exploratory data analysis"
   ]
  },
  {
   "cell_type": "markdown",
   "metadata": {},
   "source": [
    "# 2. Exploratory Data Analysis\n",
    "\n",
    "It's time to do some basic exploratory analysis on the retail store transactional data. We start by loading up the dataset into a pandas dataframe."
   ]
  },
  {
   "cell_type": "code",
   "execution_count": 1,
   "metadata": {},
   "outputs": [
    {
     "name": "stdout",
     "output_type": "stream",
     "text": [
      "<class 'pandas.core.frame.DataFrame'>\n",
      "RangeIndex: 9994 entries, 0 to 9993\n",
      "Data columns (total 21 columns):\n",
      " #   Column         Non-Null Count  Dtype         \n",
      "---  ------         --------------  -----         \n",
      " 0   Row ID         9994 non-null   int64         \n",
      " 1   Order ID       9994 non-null   object        \n",
      " 2   Order Date     9994 non-null   datetime64[ns]\n",
      " 3   Ship Date      9994 non-null   datetime64[ns]\n",
      " 4   Ship Mode      9994 non-null   object        \n",
      " 5   Customer ID    9994 non-null   object        \n",
      " 6   Customer Name  9994 non-null   object        \n",
      " 7   Segment        9994 non-null   object        \n",
      " 8   Country        9994 non-null   object        \n",
      " 9   City           9994 non-null   object        \n",
      " 10  State          9994 non-null   object        \n",
      " 11  Postal Code    9994 non-null   int64         \n",
      " 12  Region         9994 non-null   object        \n",
      " 13  Product ID     9994 non-null   object        \n",
      " 14  Category       9994 non-null   object        \n",
      " 15  Sub-Category   9994 non-null   object        \n",
      " 16  Product Name   9994 non-null   object        \n",
      " 17  Sales          9994 non-null   float64       \n",
      " 18  Quantity       9994 non-null   int64         \n",
      " 19  Discount       9994 non-null   float64       \n",
      " 20  Profit         9994 non-null   float64       \n",
      "dtypes: datetime64[ns](2), float64(3), int64(3), object(13)\n",
      "memory usage: 1.6+ MB\n"
     ]
    }
   ],
   "source": [
    "import pandas as pd\n",
    "import numpy as np\n",
    "import matplotlib.pyplot as plt\n",
    "import seaborn as sns\n",
    "import matplotlib\n",
    "import warnings\n",
    "warnings.filterwarnings('ignore')\n",
    "\n",
    "%matplotlib inline\n",
    "\n",
    "\n",
    "df = pd.read_excel(\"./Superstore.xls\")\n",
    "df.info()"
   ]
  },
  {
   "cell_type": "markdown",
   "metadata": {},
   "source": [
    "We don't have any major missing values in our dataset and we can now look at a sample subset of the data"
   ]
  },
  {
   "cell_type": "code",
   "execution_count": 2,
   "metadata": {},
   "outputs": [
    {
     "data": {
      "text/html": [
       "<div>\n",
       "<style scoped>\n",
       "    .dataframe tbody tr th:only-of-type {\n",
       "        vertical-align: middle;\n",
       "    }\n",
       "\n",
       "    .dataframe tbody tr th {\n",
       "        vertical-align: top;\n",
       "    }\n",
       "\n",
       "    .dataframe thead th {\n",
       "        text-align: right;\n",
       "    }\n",
       "</style>\n",
       "<table border=\"1\" class=\"dataframe\">\n",
       "  <thead>\n",
       "    <tr style=\"text-align: right;\">\n",
       "      <th></th>\n",
       "      <th>Row ID</th>\n",
       "      <th>Order ID</th>\n",
       "      <th>Order Date</th>\n",
       "      <th>Ship Date</th>\n",
       "      <th>Ship Mode</th>\n",
       "      <th>Customer ID</th>\n",
       "      <th>Customer Name</th>\n",
       "      <th>Segment</th>\n",
       "      <th>Country</th>\n",
       "      <th>City</th>\n",
       "      <th>...</th>\n",
       "      <th>Postal Code</th>\n",
       "      <th>Region</th>\n",
       "      <th>Product ID</th>\n",
       "      <th>Category</th>\n",
       "      <th>Sub-Category</th>\n",
       "      <th>Product Name</th>\n",
       "      <th>Sales</th>\n",
       "      <th>Quantity</th>\n",
       "      <th>Discount</th>\n",
       "      <th>Profit</th>\n",
       "    </tr>\n",
       "  </thead>\n",
       "  <tbody>\n",
       "    <tr>\n",
       "      <th>0</th>\n",
       "      <td>1</td>\n",
       "      <td>CA-2016-152156</td>\n",
       "      <td>2016-11-08</td>\n",
       "      <td>2016-11-11</td>\n",
       "      <td>Second Class</td>\n",
       "      <td>CG-12520</td>\n",
       "      <td>Claire Gute</td>\n",
       "      <td>Consumer</td>\n",
       "      <td>United States</td>\n",
       "      <td>Henderson</td>\n",
       "      <td>...</td>\n",
       "      <td>42420</td>\n",
       "      <td>South</td>\n",
       "      <td>FUR-BO-10001798</td>\n",
       "      <td>Furniture</td>\n",
       "      <td>Bookcases</td>\n",
       "      <td>Bush Somerset Collection Bookcase</td>\n",
       "      <td>261.9600</td>\n",
       "      <td>2</td>\n",
       "      <td>0.00</td>\n",
       "      <td>41.9136</td>\n",
       "    </tr>\n",
       "    <tr>\n",
       "      <th>1</th>\n",
       "      <td>2</td>\n",
       "      <td>CA-2016-152156</td>\n",
       "      <td>2016-11-08</td>\n",
       "      <td>2016-11-11</td>\n",
       "      <td>Second Class</td>\n",
       "      <td>CG-12520</td>\n",
       "      <td>Claire Gute</td>\n",
       "      <td>Consumer</td>\n",
       "      <td>United States</td>\n",
       "      <td>Henderson</td>\n",
       "      <td>...</td>\n",
       "      <td>42420</td>\n",
       "      <td>South</td>\n",
       "      <td>FUR-CH-10000454</td>\n",
       "      <td>Furniture</td>\n",
       "      <td>Chairs</td>\n",
       "      <td>Hon Deluxe Fabric Upholstered Stacking Chairs,...</td>\n",
       "      <td>731.9400</td>\n",
       "      <td>3</td>\n",
       "      <td>0.00</td>\n",
       "      <td>219.5820</td>\n",
       "    </tr>\n",
       "    <tr>\n",
       "      <th>2</th>\n",
       "      <td>3</td>\n",
       "      <td>CA-2016-138688</td>\n",
       "      <td>2016-06-12</td>\n",
       "      <td>2016-06-16</td>\n",
       "      <td>Second Class</td>\n",
       "      <td>DV-13045</td>\n",
       "      <td>Darrin Van Huff</td>\n",
       "      <td>Corporate</td>\n",
       "      <td>United States</td>\n",
       "      <td>Los Angeles</td>\n",
       "      <td>...</td>\n",
       "      <td>90036</td>\n",
       "      <td>West</td>\n",
       "      <td>OFF-LA-10000240</td>\n",
       "      <td>Office Supplies</td>\n",
       "      <td>Labels</td>\n",
       "      <td>Self-Adhesive Address Labels for Typewriters b...</td>\n",
       "      <td>14.6200</td>\n",
       "      <td>2</td>\n",
       "      <td>0.00</td>\n",
       "      <td>6.8714</td>\n",
       "    </tr>\n",
       "    <tr>\n",
       "      <th>3</th>\n",
       "      <td>4</td>\n",
       "      <td>US-2015-108966</td>\n",
       "      <td>2015-10-11</td>\n",
       "      <td>2015-10-18</td>\n",
       "      <td>Standard Class</td>\n",
       "      <td>SO-20335</td>\n",
       "      <td>Sean O'Donnell</td>\n",
       "      <td>Consumer</td>\n",
       "      <td>United States</td>\n",
       "      <td>Fort Lauderdale</td>\n",
       "      <td>...</td>\n",
       "      <td>33311</td>\n",
       "      <td>South</td>\n",
       "      <td>FUR-TA-10000577</td>\n",
       "      <td>Furniture</td>\n",
       "      <td>Tables</td>\n",
       "      <td>Bretford CR4500 Series Slim Rectangular Table</td>\n",
       "      <td>957.5775</td>\n",
       "      <td>5</td>\n",
       "      <td>0.45</td>\n",
       "      <td>-383.0310</td>\n",
       "    </tr>\n",
       "    <tr>\n",
       "      <th>4</th>\n",
       "      <td>5</td>\n",
       "      <td>US-2015-108966</td>\n",
       "      <td>2015-10-11</td>\n",
       "      <td>2015-10-18</td>\n",
       "      <td>Standard Class</td>\n",
       "      <td>SO-20335</td>\n",
       "      <td>Sean O'Donnell</td>\n",
       "      <td>Consumer</td>\n",
       "      <td>United States</td>\n",
       "      <td>Fort Lauderdale</td>\n",
       "      <td>...</td>\n",
       "      <td>33311</td>\n",
       "      <td>South</td>\n",
       "      <td>OFF-ST-10000760</td>\n",
       "      <td>Office Supplies</td>\n",
       "      <td>Storage</td>\n",
       "      <td>Eldon Fold 'N Roll Cart System</td>\n",
       "      <td>22.3680</td>\n",
       "      <td>2</td>\n",
       "      <td>0.20</td>\n",
       "      <td>2.5164</td>\n",
       "    </tr>\n",
       "  </tbody>\n",
       "</table>\n",
       "<p>5 rows × 21 columns</p>\n",
       "</div>"
      ],
      "text/plain": [
       "   Row ID        Order ID Order Date  Ship Date       Ship Mode Customer ID  \\\n",
       "0       1  CA-2016-152156 2016-11-08 2016-11-11    Second Class    CG-12520   \n",
       "1       2  CA-2016-152156 2016-11-08 2016-11-11    Second Class    CG-12520   \n",
       "2       3  CA-2016-138688 2016-06-12 2016-06-16    Second Class    DV-13045   \n",
       "3       4  US-2015-108966 2015-10-11 2015-10-18  Standard Class    SO-20335   \n",
       "4       5  US-2015-108966 2015-10-11 2015-10-18  Standard Class    SO-20335   \n",
       "\n",
       "     Customer Name    Segment        Country             City  ...  \\\n",
       "0      Claire Gute   Consumer  United States        Henderson  ...   \n",
       "1      Claire Gute   Consumer  United States        Henderson  ...   \n",
       "2  Darrin Van Huff  Corporate  United States      Los Angeles  ...   \n",
       "3   Sean O'Donnell   Consumer  United States  Fort Lauderdale  ...   \n",
       "4   Sean O'Donnell   Consumer  United States  Fort Lauderdale  ...   \n",
       "\n",
       "  Postal Code  Region       Product ID         Category Sub-Category  \\\n",
       "0       42420   South  FUR-BO-10001798        Furniture    Bookcases   \n",
       "1       42420   South  FUR-CH-10000454        Furniture       Chairs   \n",
       "2       90036    West  OFF-LA-10000240  Office Supplies       Labels   \n",
       "3       33311   South  FUR-TA-10000577        Furniture       Tables   \n",
       "4       33311   South  OFF-ST-10000760  Office Supplies      Storage   \n",
       "\n",
       "                                        Product Name     Sales  Quantity  \\\n",
       "0                  Bush Somerset Collection Bookcase  261.9600         2   \n",
       "1  Hon Deluxe Fabric Upholstered Stacking Chairs,...  731.9400         3   \n",
       "2  Self-Adhesive Address Labels for Typewriters b...   14.6200         2   \n",
       "3      Bretford CR4500 Series Slim Rectangular Table  957.5775         5   \n",
       "4                     Eldon Fold 'N Roll Cart System   22.3680         2   \n",
       "\n",
       "   Discount    Profit  \n",
       "0      0.00   41.9136  \n",
       "1      0.00  219.5820  \n",
       "2      0.00    6.8714  \n",
       "3      0.45 -383.0310  \n",
       "4      0.20    2.5164  \n",
       "\n",
       "[5 rows x 21 columns]"
      ]
     },
     "execution_count": 2,
     "metadata": {},
     "output_type": "execute_result"
    }
   ],
   "source": [
    "df.head()"
   ]
  },
  {
   "cell_type": "markdown",
   "metadata": {},
   "source": [
    "## Visualize Sales vs. Order Date \n",
    "\n",
    "Let's look more closely at the __`Sales`__ attribute of the dataset in the next few cells. We'll start by looking at typical sales over time "
   ]
  },
  {
   "cell_type": "code",
   "execution_count": 3,
   "metadata": {},
   "outputs": [
    {
     "data": {
      "image/png": "[encoded data removed]",
      "text/plain": [
       "<Figure size 864x432 with 1 Axes>"
      ]
     },
     "metadata": {
      "needs_background": "light"
     },
     "output_type": "display_data"
    }
   ],
   "source": [
    "fig, ax = plt.subplots(1, 1, figsize=(12, 6))\n",
    "sns.lineplot(x=df['Order Date'], y=df['Sales']);"
   ]
  },
  {
   "cell_type": "markdown",
   "metadata": {},
   "source": [
    "## Visualize Sales Distribution\n",
    "\n",
    "\n",
    "Let's now look at the data distribution for __`Sales`__"
   ]
  },
  {
   "cell_type": "code",
   "execution_count": 4,
   "metadata": {},
   "outputs": [
    {
     "data": {
      "image/png": "[encoded data removed]",
      "text/plain": [
       "<Figure size 432x288 with 1 Axes>"
      ]
     },
     "metadata": {
      "needs_background": "light"
     },
     "output_type": "display_data"
    }
   ],
   "source": [
    "sns.distplot(df['Sales'])\n",
    "plt.title(\"Sales Distribution\");"
   ]
  },
  {
   "cell_type": "code",
   "execution_count": 5,
   "metadata": {},
   "outputs": [
    {
     "data": {
      "text/plain": [
       "count     9994.000000\n",
       "mean       229.858001\n",
       "std        623.245101\n",
       "min          0.444000\n",
       "25%         17.280000\n",
       "50%         54.490000\n",
       "75%        209.940000\n",
       "max      22638.480000\n",
       "Name: Sales, dtype: float64"
      ]
     },
     "execution_count": 5,
     "metadata": {},
     "output_type": "execute_result"
    }
   ],
   "source": [
    "df['Sales'].describe()"
   ]
  },
  {
   "cell_type": "markdown",
   "metadata": {},
   "source": [
    "We can definitely see the presence of potential outliers in terms of the min or max values as compared to the meat of the distribution in the interquartile range as observed in the distribution statistics"
   ]
  },
  {
   "cell_type": "markdown",
   "metadata": {},
   "source": [
    "## Q 2.1: Visualize Profit vs. Order Date \n",
    "\n",
    "Let's now look closely at the __`Profit`__ attribute of the dataset in the next few cells. We'll start by looking at typical profits over time.\n",
    "\n",
    "__Your turn: Plot `Order Date` vs. `Profit` using a line plot__"
   ]
  },
  {
   "cell_type": "code",
   "execution_count": null,
   "metadata": {},
   "outputs": [],
   "source": [
    "#<FILL BLANKS HERE>"
   ]
  },
  {
   "cell_type": "code",
   "execution_count": 6,
   "metadata": {},
   "outputs": [
    {
     "data": {
      "image/png": "[encoded data removed]",
      "text/plain": [
       "<Figure size 864x432 with 1 Axes>"
      ]
     },
     "metadata": {
      "needs_background": "light"
     },
     "output_type": "display_data"
    }
   ],
   "source": [
    "fig, ax = plt.subplots(1, 1, figsize=(12, 6))\n",
    "sns.lineplot(x=df['Order Date'], y=df['Profit']);"
   ]
  },
  {
   "cell_type": "markdown",
   "metadata": {},
   "source": [
    "## Q 2.2: Visualize Profit Distribution\n",
    "\n",
    "Let's now look at the data distribution for __`Profit`__\n",
    "\n",
    "__Your turn: Plot the distribution for `Profit`__"
   ]
  },
  {
   "cell_type": "code",
   "execution_count": null,
   "metadata": {},
   "outputs": [],
   "source": [
    "#<FILL BLANKS HERE>"
   ]
  },
  {
   "cell_type": "code",
   "execution_count": 7,
   "metadata": {},
   "outputs": [
    {
     "data": {
      "image/png": "[encoded data removed]",
      "text/plain": [
       "<Figure size 432x288 with 1 Axes>"
      ]
     },
     "metadata": {
      "needs_background": "light"
     },
     "output_type": "display_data"
    }
   ],
   "source": [
    "sns.distplot(df['Profit'])\n",
    "plt.title(\"Profit Distribution\");"
   ]
  },
  {
   "cell_type": "markdown",
   "metadata": {},
   "source": [
    "__Your turn: Get the essential descriptive statistics for `Profit` using an appropriate function__"
   ]
  },
  {
   "cell_type": "code",
   "execution_count": 9,
   "metadata": {},
   "outputs": [
    {
     "data": {
      "text/plain": [
       "count    9994.000000\n",
       "mean       28.656896\n",
       "std       234.260108\n",
       "min     -6599.978000\n",
       "25%         1.728750\n",
       "50%         8.666500\n",
       "75%        29.364000\n",
       "max      8399.976000\n",
       "Name: Profit, dtype: float64"
      ]
     },
     "execution_count": 9,
     "metadata": {},
     "output_type": "execute_result"
    }
   ],
   "source": [
    "#<FILL BLANKS HERE>\n",
    "df['Profit'].describe()"
   ]
  },
  {
   "cell_type": "markdown",
   "metadata": {},
   "source": [
    "__Your turn: Do you notice anything interesting about the distribution?__"
   ]
  },
  {
   "cell_type": "markdown",
   "metadata": {},
   "source": [
    "We have both positive and negative values in profits since it indicates either a profit or a loss based on the sales and original price of the items.<br>\n",
    "We can definitely see the presence of potential outliers in terms of the min or max values as compared to the meat of the distribution in the interquartile range as observed in the distribution statistics.  max=8400, min=-6600, mean=28.66, median=8.67"
   ]
  },
  {
   "cell_type": "markdown",
   "metadata": {},
   "source": [
    "## Visualize Discount vs. Profit"
   ]
  },
  {
   "cell_type": "code",
   "execution_count": 10,
   "metadata": {},
   "outputs": [
    {
     "data": {
      "image/png": "[encoded data removed]",
      "text/plain": [
       "<Figure size 432x288 with 1 Axes>"
      ]
     },
     "metadata": {
      "needs_background": "light"
     },
     "output_type": "display_data"
    }
   ],
   "source": [
    "sns.scatterplot(x=\"Discount\", y=\"Profit\", data=df);"
   ]
  },
  {
   "cell_type": "markdown",
   "metadata": {},
   "source": [
    "In the above visual, we look at a scatter plot showing the distribution of profits w.r.t discounts given"
   ]
  },
  {
   "cell_type": "markdown",
   "metadata": {},
   "source": [
    "# 3. Univariate Anomaly Detection\n",
    "\n",
    "Univariate is basically analysis done on a single attribute or feature. In this section, we will perform anomaly detection on a single attribute using the following methods.\n",
    "\n",
    "- Statistical Process Control Methods (mean + 3sigma thresholding)\n",
    "- Isolation Forest\n",
    "\n",
    "We will start off by demonstrating both these techniques on the __`Sales`__ attribute and later on, you will implement similar techniques on the __`Profit`__ attribute."
   ]
  },
  {
   "cell_type": "markdown",
   "metadata": {},
   "source": [
    "## 3.1: Univariate Anomaly Detection on Sales using Statistical Modeling\n",
    "\n",
    "Here we start off by implementing anomaly detecting using statistical modeling on the __`Sales`__ attribute"
   ]
  },
  {
   "cell_type": "markdown",
   "metadata": {},
   "source": [
    "### Obtain Upper Limit Threshold for Sales\n",
    "\n",
    "Here we are concerned about transactions with high sales values so we compute the upper limit using the $\\mu$ + 3$\\sigma$ rule where $\\mu$ is the mean of the distribution and $\\sigma$ is the standard deviation of the distribution."
   ]
  },
  {
   "cell_type": "code",
   "execution_count": 11,
   "metadata": {},
   "outputs": [
    {
     "name": "stdout",
     "output_type": "stream",
     "text": [
      "Threshold Sales: 2099.5933023565394\n"
     ]
    }
   ],
   "source": [
    "mean_sales = df['Sales'].mean()\n",
    "sigma_sales = df['Sales'].std()\n",
    "three_sigma_sales = 3*sigma_sales\n",
    "\n",
    "threshold_sales_value = mean_sales + three_sigma_sales\n",
    "print('Threshold Sales:', threshold_sales_value)"
   ]
  },
  {
   "cell_type": "markdown",
   "metadata": {},
   "source": [
    "### Visualize Outlier Region"
   ]
  },
  {
   "cell_type": "code",
   "execution_count": 12,
   "metadata": {},
   "outputs": [
    {
     "data": {
      "image/png": "[encoded data removed]",
      "text/plain": [
       "<Figure size 864x432 with 1 Axes>"
      ]
     },
     "metadata": {
      "needs_background": "light"
     },
     "output_type": "display_data"
    }
   ],
   "source": [
    "fig, ax = plt.subplots(1, 1, figsize=(12, 6))\n",
    "\n",
    "sns.distplot(df['Sales'])\n",
    "plt.axvspan(threshold_sales_value, df['Sales'].max(), facecolor='r', alpha=0.3)\n",
    "plt.title(\"Sales Distribution with Outlier Region\");"
   ]
  },
  {
   "cell_type": "markdown",
   "metadata": {},
   "source": [
    "### Filter and Sort Outliers\n",
    "\n",
    "Here we filter out the outlier observations and sort by descending order and view the top 5 outlier values"
   ]
  },
  {
   "cell_type": "code",
   "execution_count": 13,
   "metadata": {},
   "outputs": [
    {
     "name": "stdout",
     "output_type": "stream",
     "text": [
      "Total Sales Outliers: 127\n"
     ]
    },
    {
     "data": {
      "text/plain": [
       "2697    22638.480\n",
       "6826    17499.950\n",
       "8153    13999.960\n",
       "2623    11199.968\n",
       "4190    10499.970\n",
       "Name: Sales, dtype: float64"
      ]
     },
     "execution_count": 13,
     "metadata": {},
     "output_type": "execute_result"
    }
   ],
   "source": [
    "sales_outliers_df = df['Sales'][df['Sales'] > threshold_sales_value]\n",
    "print('Total Sales Outliers:', len(sales_outliers_df))\n",
    "sales_outliers_sorted = sales_outliers_df.sort_values(ascending=False)\n",
    "sales_outliers_sorted.head(5)"
   ]
  },
  {
   "cell_type": "markdown",
   "metadata": {},
   "source": [
    "### View Top 10 Outlier Transactions"
   ]
  },
  {
   "cell_type": "code",
   "execution_count": 14,
   "metadata": {},
   "outputs": [
    {
     "data": {
      "text/html": [
       "<div>\n",
       "<style scoped>\n",
       "    .dataframe tbody tr th:only-of-type {\n",
       "        vertical-align: middle;\n",
       "    }\n",
       "\n",
       "    .dataframe tbody tr th {\n",
       "        vertical-align: top;\n",
       "    }\n",
       "\n",
       "    .dataframe thead th {\n",
       "        text-align: right;\n",
       "    }\n",
       "</style>\n",
       "<table border=\"1\" class=\"dataframe\">\n",
       "  <thead>\n",
       "    <tr style=\"text-align: right;\">\n",
       "      <th></th>\n",
       "      <th>City</th>\n",
       "      <th>Category</th>\n",
       "      <th>Sub-Category</th>\n",
       "      <th>Product Name</th>\n",
       "      <th>Sales</th>\n",
       "      <th>Quantity</th>\n",
       "      <th>Discount</th>\n",
       "      <th>Profit</th>\n",
       "    </tr>\n",
       "  </thead>\n",
       "  <tbody>\n",
       "    <tr>\n",
       "      <th>2697</th>\n",
       "      <td>Jacksonville</td>\n",
       "      <td>Technology</td>\n",
       "      <td>Machines</td>\n",
       "      <td>Cisco TelePresence System EX90 Videoconferenci...</td>\n",
       "      <td>22638.480</td>\n",
       "      <td>6</td>\n",
       "      <td>0.5</td>\n",
       "      <td>-1811.0784</td>\n",
       "    </tr>\n",
       "    <tr>\n",
       "      <th>6826</th>\n",
       "      <td>Lafayette</td>\n",
       "      <td>Technology</td>\n",
       "      <td>Copiers</td>\n",
       "      <td>Canon imageCLASS 2200 Advanced Copier</td>\n",
       "      <td>17499.950</td>\n",
       "      <td>5</td>\n",
       "      <td>0.0</td>\n",
       "      <td>8399.9760</td>\n",
       "    </tr>\n",
       "    <tr>\n",
       "      <th>8153</th>\n",
       "      <td>Seattle</td>\n",
       "      <td>Technology</td>\n",
       "      <td>Copiers</td>\n",
       "      <td>Canon imageCLASS 2200 Advanced Copier</td>\n",
       "      <td>13999.960</td>\n",
       "      <td>4</td>\n",
       "      <td>0.0</td>\n",
       "      <td>6719.9808</td>\n",
       "    </tr>\n",
       "    <tr>\n",
       "      <th>2623</th>\n",
       "      <td>New York City</td>\n",
       "      <td>Technology</td>\n",
       "      <td>Copiers</td>\n",
       "      <td>Canon imageCLASS 2200 Advanced Copier</td>\n",
       "      <td>11199.968</td>\n",
       "      <td>4</td>\n",
       "      <td>0.2</td>\n",
       "      <td>3919.9888</td>\n",
       "    </tr>\n",
       "    <tr>\n",
       "      <th>4190</th>\n",
       "      <td>Newark</td>\n",
       "      <td>Technology</td>\n",
       "      <td>Copiers</td>\n",
       "      <td>Canon imageCLASS 2200 Advanced Copier</td>\n",
       "      <td>10499.970</td>\n",
       "      <td>3</td>\n",
       "      <td>0.0</td>\n",
       "      <td>5039.9856</td>\n",
       "    </tr>\n",
       "    <tr>\n",
       "      <th>9039</th>\n",
       "      <td>Detroit</td>\n",
       "      <td>Office Supplies</td>\n",
       "      <td>Binders</td>\n",
       "      <td>GBC Ibimaster 500 Manual ProClick Binding System</td>\n",
       "      <td>9892.740</td>\n",
       "      <td>13</td>\n",
       "      <td>0.0</td>\n",
       "      <td>4946.3700</td>\n",
       "    </tr>\n",
       "    <tr>\n",
       "      <th>4098</th>\n",
       "      <td>Minneapolis</td>\n",
       "      <td>Office Supplies</td>\n",
       "      <td>Binders</td>\n",
       "      <td>Ibico EPK-21 Electric Binding System</td>\n",
       "      <td>9449.950</td>\n",
       "      <td>5</td>\n",
       "      <td>0.0</td>\n",
       "      <td>4630.4755</td>\n",
       "    </tr>\n",
       "    <tr>\n",
       "      <th>4277</th>\n",
       "      <td>Lakewood</td>\n",
       "      <td>Technology</td>\n",
       "      <td>Machines</td>\n",
       "      <td>3D Systems Cube Printer, 2nd Generation, Magenta</td>\n",
       "      <td>9099.930</td>\n",
       "      <td>7</td>\n",
       "      <td>0.0</td>\n",
       "      <td>2365.9818</td>\n",
       "    </tr>\n",
       "    <tr>\n",
       "      <th>8488</th>\n",
       "      <td>Arlington</td>\n",
       "      <td>Technology</td>\n",
       "      <td>Machines</td>\n",
       "      <td>HP Designjet T520 Inkjet Large Format Printer ...</td>\n",
       "      <td>8749.950</td>\n",
       "      <td>5</td>\n",
       "      <td>0.0</td>\n",
       "      <td>2799.9840</td>\n",
       "    </tr>\n",
       "    <tr>\n",
       "      <th>6425</th>\n",
       "      <td>Philadelphia</td>\n",
       "      <td>Technology</td>\n",
       "      <td>Copiers</td>\n",
       "      <td>Canon imageCLASS 2200 Advanced Copier</td>\n",
       "      <td>8399.976</td>\n",
       "      <td>4</td>\n",
       "      <td>0.4</td>\n",
       "      <td>1119.9968</td>\n",
       "    </tr>\n",
       "  </tbody>\n",
       "</table>\n",
       "</div>"
      ],
      "text/plain": [
       "               City         Category Sub-Category  \\\n",
       "2697   Jacksonville       Technology     Machines   \n",
       "6826      Lafayette       Technology      Copiers   \n",
       "8153        Seattle       Technology      Copiers   \n",
       "2623  New York City       Technology      Copiers   \n",
       "4190         Newark       Technology      Copiers   \n",
       "9039        Detroit  Office Supplies      Binders   \n",
       "4098    Minneapolis  Office Supplies      Binders   \n",
       "4277       Lakewood       Technology     Machines   \n",
       "8488      Arlington       Technology     Machines   \n",
       "6425   Philadelphia       Technology      Copiers   \n",
       "\n",
       "                                           Product Name      Sales  Quantity  \\\n",
       "2697  Cisco TelePresence System EX90 Videoconferenci...  22638.480         6   \n",
       "6826              Canon imageCLASS 2200 Advanced Copier  17499.950         5   \n",
       "8153              Canon imageCLASS 2200 Advanced Copier  13999.960         4   \n",
       "2623              Canon imageCLASS 2200 Advanced Copier  11199.968         4   \n",
       "4190              Canon imageCLASS 2200 Advanced Copier  10499.970         3   \n",
       "9039   GBC Ibimaster 500 Manual ProClick Binding System   9892.740        13   \n",
       "4098               Ibico EPK-21 Electric Binding System   9449.950         5   \n",
       "4277   3D Systems Cube Printer, 2nd Generation, Magenta   9099.930         7   \n",
       "8488  HP Designjet T520 Inkjet Large Format Printer ...   8749.950         5   \n",
       "6425              Canon imageCLASS 2200 Advanced Copier   8399.976         4   \n",
       "\n",
       "      Discount     Profit  \n",
       "2697       0.5 -1811.0784  \n",
       "6826       0.0  8399.9760  \n",
       "8153       0.0  6719.9808  \n",
       "2623       0.2  3919.9888  \n",
       "4190       0.0  5039.9856  \n",
       "9039       0.0  4946.3700  \n",
       "4098       0.0  4630.4755  \n",
       "4277       0.0  2365.9818  \n",
       "8488       0.0  2799.9840  \n",
       "6425       0.4  1119.9968  "
      ]
     },
     "execution_count": 14,
     "metadata": {},
     "output_type": "execute_result"
    }
   ],
   "source": [
    "(df.loc[sales_outliers_sorted.index.tolist()][['City', 'Category', 'Sub-Category', 'Product Name', \n",
    "                                              'Sales', 'Quantity', 'Discount', 'Profit']]).head(10)"
   ]
  },
  {
   "cell_type": "markdown",
   "metadata": {},
   "source": [
    "### View Bottom 10 Outlier Transactions"
   ]
  },
  {
   "cell_type": "code",
   "execution_count": 15,
   "metadata": {},
   "outputs": [
    {
     "data": {
      "text/html": [
       "<div>\n",
       "<style scoped>\n",
       "    .dataframe tbody tr th:only-of-type {\n",
       "        vertical-align: middle;\n",
       "    }\n",
       "\n",
       "    .dataframe tbody tr th {\n",
       "        vertical-align: top;\n",
       "    }\n",
       "\n",
       "    .dataframe thead th {\n",
       "        text-align: right;\n",
       "    }\n",
       "</style>\n",
       "<table border=\"1\" class=\"dataframe\">\n",
       "  <thead>\n",
       "    <tr style=\"text-align: right;\">\n",
       "      <th></th>\n",
       "      <th>City</th>\n",
       "      <th>Category</th>\n",
       "      <th>Sub-Category</th>\n",
       "      <th>Product Name</th>\n",
       "      <th>Sales</th>\n",
       "      <th>Quantity</th>\n",
       "      <th>Discount</th>\n",
       "      <th>Profit</th>\n",
       "    </tr>\n",
       "  </thead>\n",
       "  <tbody>\n",
       "    <tr>\n",
       "      <th>5300</th>\n",
       "      <td>Springfield</td>\n",
       "      <td>Furniture</td>\n",
       "      <td>Tables</td>\n",
       "      <td>Hon Rectangular Conference Tables</td>\n",
       "      <td>2275.500</td>\n",
       "      <td>10</td>\n",
       "      <td>0.0</td>\n",
       "      <td>386.8350</td>\n",
       "    </tr>\n",
       "    <tr>\n",
       "      <th>6101</th>\n",
       "      <td>New York City</td>\n",
       "      <td>Furniture</td>\n",
       "      <td>Chairs</td>\n",
       "      <td>Global Troy Executive Leather Low-Back Tilter</td>\n",
       "      <td>2254.410</td>\n",
       "      <td>5</td>\n",
       "      <td>0.1</td>\n",
       "      <td>375.7350</td>\n",
       "    </tr>\n",
       "    <tr>\n",
       "      <th>4881</th>\n",
       "      <td>Henderson</td>\n",
       "      <td>Technology</td>\n",
       "      <td>Accessories</td>\n",
       "      <td>Logitech diNovo Edge Keyboard</td>\n",
       "      <td>2249.910</td>\n",
       "      <td>9</td>\n",
       "      <td>0.0</td>\n",
       "      <td>517.4793</td>\n",
       "    </tr>\n",
       "    <tr>\n",
       "      <th>7487</th>\n",
       "      <td>Dover</td>\n",
       "      <td>Technology</td>\n",
       "      <td>Accessories</td>\n",
       "      <td>Logitech diNovo Edge Keyboard</td>\n",
       "      <td>2249.910</td>\n",
       "      <td>9</td>\n",
       "      <td>0.0</td>\n",
       "      <td>517.4793</td>\n",
       "    </tr>\n",
       "    <tr>\n",
       "      <th>1155</th>\n",
       "      <td>Harrisonburg</td>\n",
       "      <td>Furniture</td>\n",
       "      <td>Tables</td>\n",
       "      <td>Chromcraft 48\" x 96\" Racetrack Double Pedestal...</td>\n",
       "      <td>2244.480</td>\n",
       "      <td>7</td>\n",
       "      <td>0.0</td>\n",
       "      <td>493.7856</td>\n",
       "    </tr>\n",
       "    <tr>\n",
       "      <th>8699</th>\n",
       "      <td>Nashville</td>\n",
       "      <td>Technology</td>\n",
       "      <td>Phones</td>\n",
       "      <td>Samsung Galaxy S III - 16GB - pebble blue (T-M...</td>\n",
       "      <td>2239.936</td>\n",
       "      <td>8</td>\n",
       "      <td>0.2</td>\n",
       "      <td>223.9936</td>\n",
       "    </tr>\n",
       "    <tr>\n",
       "      <th>9774</th>\n",
       "      <td>San Antonio</td>\n",
       "      <td>Office Supplies</td>\n",
       "      <td>Binders</td>\n",
       "      <td>GBC DocuBind P400 Electric Binding System</td>\n",
       "      <td>2177.584</td>\n",
       "      <td>8</td>\n",
       "      <td>0.8</td>\n",
       "      <td>-3701.8928</td>\n",
       "    </tr>\n",
       "    <tr>\n",
       "      <th>8424</th>\n",
       "      <td>Lakewood</td>\n",
       "      <td>Furniture</td>\n",
       "      <td>Bookcases</td>\n",
       "      <td>Global Adaptabilites Bookcase, Cherry/Storm Gr...</td>\n",
       "      <td>2154.900</td>\n",
       "      <td>5</td>\n",
       "      <td>0.0</td>\n",
       "      <td>129.2940</td>\n",
       "    </tr>\n",
       "    <tr>\n",
       "      <th>6534</th>\n",
       "      <td>Buffalo</td>\n",
       "      <td>Office Supplies</td>\n",
       "      <td>Binders</td>\n",
       "      <td>GBC DocuBind TL300 Electric Binding System</td>\n",
       "      <td>2152.776</td>\n",
       "      <td>3</td>\n",
       "      <td>0.2</td>\n",
       "      <td>726.5619</td>\n",
       "    </tr>\n",
       "    <tr>\n",
       "      <th>8680</th>\n",
       "      <td>Richmond</td>\n",
       "      <td>Office Supplies</td>\n",
       "      <td>Appliances</td>\n",
       "      <td>Honeywell Enviracaire Portable HEPA Air Cleane...</td>\n",
       "      <td>2104.550</td>\n",
       "      <td>7</td>\n",
       "      <td>0.0</td>\n",
       "      <td>694.5015</td>\n",
       "    </tr>\n",
       "  </tbody>\n",
       "</table>\n",
       "</div>"
      ],
      "text/plain": [
       "               City         Category Sub-Category  \\\n",
       "5300    Springfield        Furniture       Tables   \n",
       "6101  New York City        Furniture       Chairs   \n",
       "4881      Henderson       Technology  Accessories   \n",
       "7487          Dover       Technology  Accessories   \n",
       "1155   Harrisonburg        Furniture       Tables   \n",
       "8699      Nashville       Technology       Phones   \n",
       "9774    San Antonio  Office Supplies      Binders   \n",
       "8424       Lakewood        Furniture    Bookcases   \n",
       "6534        Buffalo  Office Supplies      Binders   \n",
       "8680       Richmond  Office Supplies   Appliances   \n",
       "\n",
       "                                           Product Name     Sales  Quantity  \\\n",
       "5300                  Hon Rectangular Conference Tables  2275.500        10   \n",
       "6101      Global Troy Executive Leather Low-Back Tilter  2254.410         5   \n",
       "4881                      Logitech diNovo Edge Keyboard  2249.910         9   \n",
       "7487                      Logitech diNovo Edge Keyboard  2249.910         9   \n",
       "1155  Chromcraft 48\" x 96\" Racetrack Double Pedestal...  2244.480         7   \n",
       "8699  Samsung Galaxy S III - 16GB - pebble blue (T-M...  2239.936         8   \n",
       "9774          GBC DocuBind P400 Electric Binding System  2177.584         8   \n",
       "8424  Global Adaptabilites Bookcase, Cherry/Storm Gr...  2154.900         5   \n",
       "6534         GBC DocuBind TL300 Electric Binding System  2152.776         3   \n",
       "8680  Honeywell Enviracaire Portable HEPA Air Cleane...  2104.550         7   \n",
       "\n",
       "      Discount     Profit  \n",
       "5300       0.0   386.8350  \n",
       "6101       0.1   375.7350  \n",
       "4881       0.0   517.4793  \n",
       "7487       0.0   517.4793  \n",
       "1155       0.0   493.7856  \n",
       "8699       0.2   223.9936  \n",
       "9774       0.8 -3701.8928  \n",
       "8424       0.0   129.2940  \n",
       "6534       0.2   726.5619  \n",
       "8680       0.0   694.5015  "
      ]
     },
     "execution_count": 15,
     "metadata": {},
     "output_type": "execute_result"
    }
   ],
   "source": [
    "(df.loc[sales_outliers_sorted.index.tolist()][['City', 'Category', 'Sub-Category', 'Product Name', \n",
    "                                              'Sales', 'Quantity', 'Discount', 'Profit']]).tail(10)"
   ]
  },
  {
   "cell_type": "markdown",
   "metadata": {},
   "source": [
    "## Q 3.2: Univariate Anomaly Detection on Profit using Statistical Modeling\n",
    "\n",
    "In this section you will use the learning from Section 3.1 and implement anomaly detecting using statistical modeling on the __`Profit`__ attribute. Since we have both +ve (profits) and -ve (losses) values in the distribution, we will try to find anomalies for each."
   ]
  },
  {
   "cell_type": "markdown",
   "metadata": {},
   "source": [
    "### Obtain Upper Limit Threshold for Profit\n",
    "\n",
    "__Your turn:__ Compute the upper and lower limits using the  𝜇  + 3 𝜎  rule where  𝜇  is the mean of the distribution and  𝜎  is the standard deviation of the distribution."
   ]
  },
  {
   "cell_type": "code",
   "execution_count": 18,
   "metadata": {},
   "outputs": [
    {
     "name": "stdout",
     "output_type": "stream",
     "text": [
      "Thresholds Profit: -674.123426765088 731.4372193806576\n"
     ]
    }
   ],
   "source": [
    "mean_profit = df['Profit'].mean()\n",
    "sigma_profit = df['Profit'].std()\n",
    "three_sigma_profit = 3*sigma_profit\n",
    "\n",
    "threshold_profit_upper_limit = mean_profit + three_sigma_profit\n",
    "threshold_profit_lower_limit = mean_profit - three_sigma_profit\n",
    "\n",
    "print('Thresholds Profit:', threshold_profit_lower_limit, threshold_profit_upper_limit)"
   ]
  },
  {
   "cell_type": "markdown",
   "metadata": {},
   "source": [
    "### Visualize Outlier Regions\n",
    "\n",
    "__Your turn:__ Visualize the upper and lower outlier regions in the distribution similar to what you did in 3.1"
   ]
  },
  {
   "cell_type": "code",
   "execution_count": null,
   "metadata": {},
   "outputs": [],
   "source": [
    "#<FILL BLANKS HERE>"
   ]
  },
  {
   "cell_type": "code",
   "execution_count": 21,
   "metadata": {},
   "outputs": [
    {
     "data": {
      "image/png": "[encoded data removed]",
      "text/plain": [
       "<Figure size 864x432 with 1 Axes>"
      ]
     },
     "metadata": {
      "needs_background": "light"
     },
     "output_type": "display_data"
    }
   ],
   "source": [
    "fig, ax = plt.subplots(1, 1, figsize=(12, 6))\n",
    "\n",
    "sns.distplot(df['Profit'])\n",
    "plt.axvspan(threshold_profit_upper_limit, df['Profit'].max(), facecolor='r', alpha=0.3)\n",
    "plt.axvspan(threshold_profit_lower_limit, df['Profit'].min(), facecolor='b', alpha=0.3)\n",
    "plt.title(\"Profit Distribution with Outlier Region\");"
   ]
  },
  {
   "cell_type": "markdown",
   "metadata": {},
   "source": [
    "### Filter and Sort Outliers\n",
    "\n",
    "__Your turn:__ Filter out the outlier observations and sort by descending order and view the top 5 outlier values"
   ]
  },
  {
   "cell_type": "code",
   "execution_count": null,
   "metadata": {},
   "outputs": [],
   "source": [
    "#<FILL BLANKS HERE>"
   ]
  },
  {
   "cell_type": "code",
   "execution_count": 27,
   "metadata": {},
   "outputs": [
    {
     "name": "stdout",
     "output_type": "stream",
     "text": [
      "Total Profit Outliers: 70\n"
     ]
    },
    {
     "data": {
      "text/plain": [
       "6826    8399.9760\n",
       "8153    6719.9808\n",
       "4190    5039.9856\n",
       "9039    4946.3700\n",
       "4098    4630.4755\n",
       "Name: Profit, dtype: float64"
      ]
     },
     "execution_count": 27,
     "metadata": {},
     "output_type": "execute_result"
    }
   ],
   "source": [
    "profit_outliers_df = df['Profit'][df['Profit'] > threshold_profit_upper_limit]\n",
    "print('Total Profit Outliers:', len(profit_outliers_df))\n",
    "profit_outliers_sorted = profit_outliers_df.sort_values(ascending=False)\n",
    "profit_outliers_sorted.head(5)"
   ]
  },
  {
   "cell_type": "code",
   "execution_count": 28,
   "metadata": {},
   "outputs": [
    {
     "name": "stdout",
     "output_type": "stream",
     "text": [
      "Total Profit (Loss) Outliers: 37\n"
     ]
    },
    {
     "data": {
      "text/plain": [
       "7772   -6599.9780\n",
       "683    -3839.9904\n",
       "9774   -3701.8928\n",
       "3011   -3399.9800\n",
       "4991   -2929.4845\n",
       "Name: Profit, dtype: float64"
      ]
     },
     "execution_count": 28,
     "metadata": {},
     "output_type": "execute_result"
    }
   ],
   "source": [
    "loss_outliers_df = df['Profit'][df['Profit'] < threshold_profit_lower_limit]\n",
    "print('Total Profit (Loss) Outliers:', len(loss_outliers_df))\n",
    "loss_outliers_sorted = loss_outliers_df.sort_values(ascending=True)\n",
    "loss_outliers_sorted.head(5)"
   ]
  },
  {
   "cell_type": "markdown",
   "metadata": {},
   "source": [
    "### View Top 10 Outlier Transactions\n",
    "\n",
    "__Your turn:__ View the top ten transactions based on highest profits"
   ]
  },
  {
   "cell_type": "code",
   "execution_count": null,
   "metadata": {},
   "outputs": [],
   "source": [
    "#<FILL BLANKS HERE>"
   ]
  },
  {
   "cell_type": "code",
   "execution_count": 29,
   "metadata": {},
   "outputs": [
    {
     "data": {
      "text/html": [
       "<div>\n",
       "<style scoped>\n",
       "    .dataframe tbody tr th:only-of-type {\n",
       "        vertical-align: middle;\n",
       "    }\n",
       "\n",
       "    .dataframe tbody tr th {\n",
       "        vertical-align: top;\n",
       "    }\n",
       "\n",
       "    .dataframe thead th {\n",
       "        text-align: right;\n",
       "    }\n",
       "</style>\n",
       "<table border=\"1\" class=\"dataframe\">\n",
       "  <thead>\n",
       "    <tr style=\"text-align: right;\">\n",
       "      <th></th>\n",
       "      <th>City</th>\n",
       "      <th>Category</th>\n",
       "      <th>Sub-Category</th>\n",
       "      <th>Product Name</th>\n",
       "      <th>Sales</th>\n",
       "      <th>Quantity</th>\n",
       "      <th>Discount</th>\n",
       "      <th>Profit</th>\n",
       "    </tr>\n",
       "  </thead>\n",
       "  <tbody>\n",
       "    <tr>\n",
       "      <th>6826</th>\n",
       "      <td>Lafayette</td>\n",
       "      <td>Technology</td>\n",
       "      <td>Copiers</td>\n",
       "      <td>Canon imageCLASS 2200 Advanced Copier</td>\n",
       "      <td>17499.950</td>\n",
       "      <td>5</td>\n",
       "      <td>0.0</td>\n",
       "      <td>8399.9760</td>\n",
       "    </tr>\n",
       "    <tr>\n",
       "      <th>8153</th>\n",
       "      <td>Seattle</td>\n",
       "      <td>Technology</td>\n",
       "      <td>Copiers</td>\n",
       "      <td>Canon imageCLASS 2200 Advanced Copier</td>\n",
       "      <td>13999.960</td>\n",
       "      <td>4</td>\n",
       "      <td>0.0</td>\n",
       "      <td>6719.9808</td>\n",
       "    </tr>\n",
       "    <tr>\n",
       "      <th>4190</th>\n",
       "      <td>Newark</td>\n",
       "      <td>Technology</td>\n",
       "      <td>Copiers</td>\n",
       "      <td>Canon imageCLASS 2200 Advanced Copier</td>\n",
       "      <td>10499.970</td>\n",
       "      <td>3</td>\n",
       "      <td>0.0</td>\n",
       "      <td>5039.9856</td>\n",
       "    </tr>\n",
       "    <tr>\n",
       "      <th>9039</th>\n",
       "      <td>Detroit</td>\n",
       "      <td>Office Supplies</td>\n",
       "      <td>Binders</td>\n",
       "      <td>GBC Ibimaster 500 Manual ProClick Binding System</td>\n",
       "      <td>9892.740</td>\n",
       "      <td>13</td>\n",
       "      <td>0.0</td>\n",
       "      <td>4946.3700</td>\n",
       "    </tr>\n",
       "    <tr>\n",
       "      <th>4098</th>\n",
       "      <td>Minneapolis</td>\n",
       "      <td>Office Supplies</td>\n",
       "      <td>Binders</td>\n",
       "      <td>Ibico EPK-21 Electric Binding System</td>\n",
       "      <td>9449.950</td>\n",
       "      <td>5</td>\n",
       "      <td>0.0</td>\n",
       "      <td>4630.4755</td>\n",
       "    </tr>\n",
       "    <tr>\n",
       "      <th>2623</th>\n",
       "      <td>New York City</td>\n",
       "      <td>Technology</td>\n",
       "      <td>Copiers</td>\n",
       "      <td>Canon imageCLASS 2200 Advanced Copier</td>\n",
       "      <td>11199.968</td>\n",
       "      <td>4</td>\n",
       "      <td>0.2</td>\n",
       "      <td>3919.9888</td>\n",
       "    </tr>\n",
       "    <tr>\n",
       "      <th>509</th>\n",
       "      <td>Atlanta</td>\n",
       "      <td>Office Supplies</td>\n",
       "      <td>Binders</td>\n",
       "      <td>Fellowes PB500 Electric Punch Plastic Comb Bin...</td>\n",
       "      <td>6354.950</td>\n",
       "      <td>5</td>\n",
       "      <td>0.0</td>\n",
       "      <td>3177.4750</td>\n",
       "    </tr>\n",
       "    <tr>\n",
       "      <th>8488</th>\n",
       "      <td>Arlington</td>\n",
       "      <td>Technology</td>\n",
       "      <td>Machines</td>\n",
       "      <td>HP Designjet T520 Inkjet Large Format Printer ...</td>\n",
       "      <td>8749.950</td>\n",
       "      <td>5</td>\n",
       "      <td>0.0</td>\n",
       "      <td>2799.9840</td>\n",
       "    </tr>\n",
       "    <tr>\n",
       "      <th>7666</th>\n",
       "      <td>Providence</td>\n",
       "      <td>Technology</td>\n",
       "      <td>Copiers</td>\n",
       "      <td>Hewlett Packard LaserJet 3310 Copier</td>\n",
       "      <td>5399.910</td>\n",
       "      <td>9</td>\n",
       "      <td>0.0</td>\n",
       "      <td>2591.9568</td>\n",
       "    </tr>\n",
       "    <tr>\n",
       "      <th>6520</th>\n",
       "      <td>Jackson</td>\n",
       "      <td>Office Supplies</td>\n",
       "      <td>Binders</td>\n",
       "      <td>GBC DocuBind P400 Electric Binding System</td>\n",
       "      <td>5443.960</td>\n",
       "      <td>4</td>\n",
       "      <td>0.0</td>\n",
       "      <td>2504.2216</td>\n",
       "    </tr>\n",
       "  </tbody>\n",
       "</table>\n",
       "</div>"
      ],
      "text/plain": [
       "               City         Category Sub-Category  \\\n",
       "6826      Lafayette       Technology      Copiers   \n",
       "8153        Seattle       Technology      Copiers   \n",
       "4190         Newark       Technology      Copiers   \n",
       "9039        Detroit  Office Supplies      Binders   \n",
       "4098    Minneapolis  Office Supplies      Binders   \n",
       "2623  New York City       Technology      Copiers   \n",
       "509         Atlanta  Office Supplies      Binders   \n",
       "8488      Arlington       Technology     Machines   \n",
       "7666     Providence       Technology      Copiers   \n",
       "6520        Jackson  Office Supplies      Binders   \n",
       "\n",
       "                                           Product Name      Sales  Quantity  \\\n",
       "6826              Canon imageCLASS 2200 Advanced Copier  17499.950         5   \n",
       "8153              Canon imageCLASS 2200 Advanced Copier  13999.960         4   \n",
       "4190              Canon imageCLASS 2200 Advanced Copier  10499.970         3   \n",
       "9039   GBC Ibimaster 500 Manual ProClick Binding System   9892.740        13   \n",
       "4098               Ibico EPK-21 Electric Binding System   9449.950         5   \n",
       "2623              Canon imageCLASS 2200 Advanced Copier  11199.968         4   \n",
       "509   Fellowes PB500 Electric Punch Plastic Comb Bin...   6354.950         5   \n",
       "8488  HP Designjet T520 Inkjet Large Format Printer ...   8749.950         5   \n",
       "7666               Hewlett Packard LaserJet 3310 Copier   5399.910         9   \n",
       "6520          GBC DocuBind P400 Electric Binding System   5443.960         4   \n",
       "\n",
       "      Discount     Profit  \n",
       "6826       0.0  8399.9760  \n",
       "8153       0.0  6719.9808  \n",
       "4190       0.0  5039.9856  \n",
       "9039       0.0  4946.3700  \n",
       "4098       0.0  4630.4755  \n",
       "2623       0.2  3919.9888  \n",
       "509        0.0  3177.4750  \n",
       "8488       0.0  2799.9840  \n",
       "7666       0.0  2591.9568  \n",
       "6520       0.0  2504.2216  "
      ]
     },
     "execution_count": 29,
     "metadata": {},
     "output_type": "execute_result"
    }
   ],
   "source": [
    "(df.loc[profit_outliers_sorted.index.tolist()][['City', 'Category', 'Sub-Category', 'Product Name', \n",
    "                                              'Sales', 'Quantity', 'Discount', 'Profit']]).head(10)"
   ]
  },
  {
   "cell_type": "markdown",
   "metadata": {},
   "source": [
    "### Q: Do you notice any interesting insights based on these transactions?"
   ]
  },
  {
   "cell_type": "markdown",
   "metadata": {},
   "source": [
    "__A:__ Most of these are purchases for Copiers and Binders , looks like Canon products yielded some good profits`"
   ]
  },
  {
   "cell_type": "markdown",
   "metadata": {},
   "source": [
    "### View Bottom 10 Outlier Transactions\n",
    "\n",
    "__Your turn:__ View the bottom ten transactions based on lowest profits (highest losses)"
   ]
  },
  {
   "cell_type": "code",
   "execution_count": null,
   "metadata": {},
   "outputs": [],
   "source": [
    "#<FILL BLANKS HERE>"
   ]
  },
  {
   "cell_type": "code",
   "execution_count": 30,
   "metadata": {},
   "outputs": [
    {
     "data": {
      "text/html": [
       "<div>\n",
       "<style scoped>\n",
       "    .dataframe tbody tr th:only-of-type {\n",
       "        vertical-align: middle;\n",
       "    }\n",
       "\n",
       "    .dataframe tbody tr th {\n",
       "        vertical-align: top;\n",
       "    }\n",
       "\n",
       "    .dataframe thead th {\n",
       "        text-align: right;\n",
       "    }\n",
       "</style>\n",
       "<table border=\"1\" class=\"dataframe\">\n",
       "  <thead>\n",
       "    <tr style=\"text-align: right;\">\n",
       "      <th></th>\n",
       "      <th>City</th>\n",
       "      <th>Category</th>\n",
       "      <th>Sub-Category</th>\n",
       "      <th>Product Name</th>\n",
       "      <th>Sales</th>\n",
       "      <th>Quantity</th>\n",
       "      <th>Discount</th>\n",
       "      <th>Profit</th>\n",
       "    </tr>\n",
       "  </thead>\n",
       "  <tbody>\n",
       "    <tr>\n",
       "      <th>7772</th>\n",
       "      <td>Lancaster</td>\n",
       "      <td>Technology</td>\n",
       "      <td>Machines</td>\n",
       "      <td>Cubify CubeX 3D Printer Double Head Print</td>\n",
       "      <td>4499.985</td>\n",
       "      <td>5</td>\n",
       "      <td>0.7</td>\n",
       "      <td>-6599.9780</td>\n",
       "    </tr>\n",
       "    <tr>\n",
       "      <th>683</th>\n",
       "      <td>Burlington</td>\n",
       "      <td>Technology</td>\n",
       "      <td>Machines</td>\n",
       "      <td>Cubify CubeX 3D Printer Triple Head Print</td>\n",
       "      <td>7999.980</td>\n",
       "      <td>4</td>\n",
       "      <td>0.5</td>\n",
       "      <td>-3839.9904</td>\n",
       "    </tr>\n",
       "    <tr>\n",
       "      <th>9774</th>\n",
       "      <td>San Antonio</td>\n",
       "      <td>Office Supplies</td>\n",
       "      <td>Binders</td>\n",
       "      <td>GBC DocuBind P400 Electric Binding System</td>\n",
       "      <td>2177.584</td>\n",
       "      <td>8</td>\n",
       "      <td>0.8</td>\n",
       "      <td>-3701.8928</td>\n",
       "    </tr>\n",
       "    <tr>\n",
       "      <th>3011</th>\n",
       "      <td>Louisville</td>\n",
       "      <td>Technology</td>\n",
       "      <td>Machines</td>\n",
       "      <td>Lexmark MX611dhe Monochrome Laser Printer</td>\n",
       "      <td>2549.985</td>\n",
       "      <td>5</td>\n",
       "      <td>0.7</td>\n",
       "      <td>-3399.9800</td>\n",
       "    </tr>\n",
       "    <tr>\n",
       "      <th>4991</th>\n",
       "      <td>Chicago</td>\n",
       "      <td>Office Supplies</td>\n",
       "      <td>Binders</td>\n",
       "      <td>Ibico EPK-21 Electric Binding System</td>\n",
       "      <td>1889.990</td>\n",
       "      <td>5</td>\n",
       "      <td>0.8</td>\n",
       "      <td>-2929.4845</td>\n",
       "    </tr>\n",
       "    <tr>\n",
       "      <th>3151</th>\n",
       "      <td>Newark</td>\n",
       "      <td>Technology</td>\n",
       "      <td>Machines</td>\n",
       "      <td>Cubify CubeX 3D Printer Double Head Print</td>\n",
       "      <td>1799.994</td>\n",
       "      <td>2</td>\n",
       "      <td>0.7</td>\n",
       "      <td>-2639.9912</td>\n",
       "    </tr>\n",
       "    <tr>\n",
       "      <th>5310</th>\n",
       "      <td>Houston</td>\n",
       "      <td>Office Supplies</td>\n",
       "      <td>Binders</td>\n",
       "      <td>Fellowes PB500 Electric Punch Plastic Comb Bin...</td>\n",
       "      <td>1525.188</td>\n",
       "      <td>6</td>\n",
       "      <td>0.8</td>\n",
       "      <td>-2287.7820</td>\n",
       "    </tr>\n",
       "    <tr>\n",
       "      <th>9639</th>\n",
       "      <td>Concord</td>\n",
       "      <td>Furniture</td>\n",
       "      <td>Tables</td>\n",
       "      <td>Chromcraft Bull-Nose Wood Oval Conference Tabl...</td>\n",
       "      <td>4297.644</td>\n",
       "      <td>13</td>\n",
       "      <td>0.4</td>\n",
       "      <td>-1862.3124</td>\n",
       "    </tr>\n",
       "    <tr>\n",
       "      <th>1199</th>\n",
       "      <td>Houston</td>\n",
       "      <td>Office Supplies</td>\n",
       "      <td>Binders</td>\n",
       "      <td>GBC DocuBind P400 Electric Binding System</td>\n",
       "      <td>1088.792</td>\n",
       "      <td>4</td>\n",
       "      <td>0.8</td>\n",
       "      <td>-1850.9464</td>\n",
       "    </tr>\n",
       "    <tr>\n",
       "      <th>2697</th>\n",
       "      <td>Jacksonville</td>\n",
       "      <td>Technology</td>\n",
       "      <td>Machines</td>\n",
       "      <td>Cisco TelePresence System EX90 Videoconferenci...</td>\n",
       "      <td>22638.480</td>\n",
       "      <td>6</td>\n",
       "      <td>0.5</td>\n",
       "      <td>-1811.0784</td>\n",
       "    </tr>\n",
       "  </tbody>\n",
       "</table>\n",
       "</div>"
      ],
      "text/plain": [
       "              City         Category Sub-Category  \\\n",
       "7772     Lancaster       Technology     Machines   \n",
       "683     Burlington       Technology     Machines   \n",
       "9774   San Antonio  Office Supplies      Binders   \n",
       "3011    Louisville       Technology     Machines   \n",
       "4991       Chicago  Office Supplies      Binders   \n",
       "3151        Newark       Technology     Machines   \n",
       "5310       Houston  Office Supplies      Binders   \n",
       "9639       Concord        Furniture       Tables   \n",
       "1199       Houston  Office Supplies      Binders   \n",
       "2697  Jacksonville       Technology     Machines   \n",
       "\n",
       "                                           Product Name      Sales  Quantity  \\\n",
       "7772          Cubify CubeX 3D Printer Double Head Print   4499.985         5   \n",
       "683           Cubify CubeX 3D Printer Triple Head Print   7999.980         4   \n",
       "9774          GBC DocuBind P400 Electric Binding System   2177.584         8   \n",
       "3011          Lexmark MX611dhe Monochrome Laser Printer   2549.985         5   \n",
       "4991               Ibico EPK-21 Electric Binding System   1889.990         5   \n",
       "3151          Cubify CubeX 3D Printer Double Head Print   1799.994         2   \n",
       "5310  Fellowes PB500 Electric Punch Plastic Comb Bin...   1525.188         6   \n",
       "9639  Chromcraft Bull-Nose Wood Oval Conference Tabl...   4297.644        13   \n",
       "1199          GBC DocuBind P400 Electric Binding System   1088.792         4   \n",
       "2697  Cisco TelePresence System EX90 Videoconferenci...  22638.480         6   \n",
       "\n",
       "      Discount     Profit  \n",
       "7772       0.7 -6599.9780  \n",
       "683        0.5 -3839.9904  \n",
       "9774       0.8 -3701.8928  \n",
       "3011       0.7 -3399.9800  \n",
       "4991       0.8 -2929.4845  \n",
       "3151       0.7 -2639.9912  \n",
       "5310       0.8 -2287.7820  \n",
       "9639       0.4 -1862.3124  \n",
       "1199       0.8 -1850.9464  \n",
       "2697       0.5 -1811.0784  "
      ]
     },
     "execution_count": 30,
     "metadata": {},
     "output_type": "execute_result"
    }
   ],
   "source": [
    "(df.loc[loss_outliers_sorted.index.tolist()][['City', 'Category', 'Sub-Category', 'Product Name', \n",
    "                                              'Sales', 'Quantity', 'Discount', 'Profit']]).head(10)"
   ]
  },
  {
   "cell_type": "markdown",
   "metadata": {},
   "source": [
    "### Q: Do you notice any interesting insights based on these transactions?"
   ]
  },
  {
   "cell_type": "markdown",
   "metadata": {},
   "source": [
    "__A:__ Most of these are purchases for Machines and Binders , looks like Cubify 3D Printers yielded high losses"
   ]
  },
  {
   "cell_type": "markdown",
   "metadata": {},
   "source": [
    "## 3.3: Univariate Anomaly Detection on Sales using Isolation Forest\n",
    "\n",
    "You might have already learnt about this model from the curriculum. Just to briefly recap, the Isolation Forest model,  'isolates' observations by randomly selecting a feature and then randomly selecting a split value between the maximum and minimum values of the selected feature.\n",
    "\n",
    "Recursive partitioning can be represented by a tree structure. Hence, the number of splittings required to isolate a sample is equivalent to the path length from the root node to the terminating node. This path length, averaged over a forest of such random trees, is a measure of normality and our decision function.\n",
    "\n",
    "Random partitioning produces noticeably shorter paths for anomalies. Hence, when a forest of random trees collectively produce shorter path lengths for particular samples, they are highly likely to be anomalies.\n",
    "\n",
    "More details are available in this [User Guide](https://scikit-learn.org/stable/modules/outlier_detection.html#isolation-forest)"
   ]
  },
  {
   "cell_type": "markdown",
   "metadata": {},
   "source": [
    "### Initialize and Train Model\n",
    "\n",
    "Here we initialize the isolation forest model with some hyperparameters assuming the proportion of outliers to be 1% of the total data (using the `contamination` setting)"
   ]
  },
  {
   "cell_type": "code",
   "execution_count": 31,
   "metadata": {},
   "outputs": [
    {
     "data": {
      "text/plain": [
       "IsolationForest(contamination=0.01)"
      ]
     },
     "execution_count": 31,
     "metadata": {},
     "output_type": "execute_result"
    }
   ],
   "source": [
    "from sklearn.ensemble import IsolationForest\n",
    "\n",
    "sales_ifmodel = IsolationForest(n_estimators=100,\n",
    "                                contamination=0.01)\n",
    "sales_ifmodel.fit(df[['Sales']])"
   ]
  },
  {
   "cell_type": "markdown",
   "metadata": {},
   "source": [
    "### Visualize Outlier Region\n",
    "\n",
    "Here we visualize the outlier region in the data distribution"
   ]
  },
  {
   "cell_type": "code",
   "execution_count": 32,
   "metadata": {
    "scrolled": false
   },
   "outputs": [
    {
     "data": {
      "image/png": "[encoded data removed]",
      "text/plain": [
       "<Figure size 864x432 with 1 Axes>"
      ]
     },
     "metadata": {
      "needs_background": "light"
     },
     "output_type": "display_data"
    }
   ],
   "source": [
    "xx = np.linspace(df['Sales'].min(), df['Sales'].max(), len(df)).reshape(-1,1)\n",
    "anomaly_score = sales_ifmodel.decision_function(xx)\n",
    "outlier = sales_ifmodel.predict(xx)\n",
    "plt.figure(figsize=(12, 6))\n",
    "plt.plot(xx, anomaly_score, label='anomaly score')\n",
    "plt.fill_between(xx.T[0], np.min(anomaly_score), np.max(anomaly_score), \n",
    "                 where=outlier==-1, color='r', \n",
    "                 alpha=.4, label='outlier region')\n",
    "plt.legend()\n",
    "plt.ylabel('anomaly score')\n",
    "plt.xlabel('Sales');"
   ]
  },
  {
   "cell_type": "markdown",
   "metadata": {},
   "source": [
    "### Filter and Sort Outliers\n",
    "\n",
    "Here we predict outliers in our dataset using our trained model and filter out the outlier observations and sort by descending order and view the top 5 outlier values"
   ]
  },
  {
   "cell_type": "code",
   "execution_count": 33,
   "metadata": {},
   "outputs": [
    {
     "name": "stdout",
     "output_type": "stream",
     "text": [
      "Total Sales Outliers: 99\n"
     ]
    },
    {
     "data": {
      "text/plain": [
       "2697    22638.480\n",
       "6826    17499.950\n",
       "8153    13999.960\n",
       "2623    11199.968\n",
       "4190    10499.970\n",
       "Name: Sales, dtype: float64"
      ]
     },
     "execution_count": 33,
     "metadata": {},
     "output_type": "execute_result"
    }
   ],
   "source": [
    "outlier_predictions = sales_ifmodel.predict(df[['Sales']])\n",
    "\n",
    "sales_outliers_df = df[['Sales']]\n",
    "sales_outliers_df['Outlier'] = outlier_predictions\n",
    "sales_outliers_df = sales_outliers_df[sales_outliers_df['Outlier'] == -1]['Sales']\n",
    "\n",
    "print('Total Sales Outliers:', len(sales_outliers_df))\n",
    "sales_outliers_sorted = sales_outliers_df.sort_values(ascending=False)\n",
    "sales_outliers_sorted.head(5)"
   ]
  },
  {
   "cell_type": "markdown",
   "metadata": {},
   "source": [
    "### View Top 10 Outlier Transactions"
   ]
  },
  {
   "cell_type": "code",
   "execution_count": 34,
   "metadata": {},
   "outputs": [
    {
     "data": {
      "text/html": [
       "<div>\n",
       "<style scoped>\n",
       "    .dataframe tbody tr th:only-of-type {\n",
       "        vertical-align: middle;\n",
       "    }\n",
       "\n",
       "    .dataframe tbody tr th {\n",
       "        vertical-align: top;\n",
       "    }\n",
       "\n",
       "    .dataframe thead th {\n",
       "        text-align: right;\n",
       "    }\n",
       "</style>\n",
       "<table border=\"1\" class=\"dataframe\">\n",
       "  <thead>\n",
       "    <tr style=\"text-align: right;\">\n",
       "      <th></th>\n",
       "      <th>City</th>\n",
       "      <th>Category</th>\n",
       "      <th>Sub-Category</th>\n",
       "      <th>Product Name</th>\n",
       "      <th>Sales</th>\n",
       "      <th>Quantity</th>\n",
       "      <th>Discount</th>\n",
       "      <th>Profit</th>\n",
       "    </tr>\n",
       "  </thead>\n",
       "  <tbody>\n",
       "    <tr>\n",
       "      <th>2697</th>\n",
       "      <td>Jacksonville</td>\n",
       "      <td>Technology</td>\n",
       "      <td>Machines</td>\n",
       "      <td>Cisco TelePresence System EX90 Videoconferenci...</td>\n",
       "      <td>22638.480</td>\n",
       "      <td>6</td>\n",
       "      <td>0.5</td>\n",
       "      <td>-1811.0784</td>\n",
       "    </tr>\n",
       "    <tr>\n",
       "      <th>6826</th>\n",
       "      <td>Lafayette</td>\n",
       "      <td>Technology</td>\n",
       "      <td>Copiers</td>\n",
       "      <td>Canon imageCLASS 2200 Advanced Copier</td>\n",
       "      <td>17499.950</td>\n",
       "      <td>5</td>\n",
       "      <td>0.0</td>\n",
       "      <td>8399.9760</td>\n",
       "    </tr>\n",
       "    <tr>\n",
       "      <th>8153</th>\n",
       "      <td>Seattle</td>\n",
       "      <td>Technology</td>\n",
       "      <td>Copiers</td>\n",
       "      <td>Canon imageCLASS 2200 Advanced Copier</td>\n",
       "      <td>13999.960</td>\n",
       "      <td>4</td>\n",
       "      <td>0.0</td>\n",
       "      <td>6719.9808</td>\n",
       "    </tr>\n",
       "    <tr>\n",
       "      <th>2623</th>\n",
       "      <td>New York City</td>\n",
       "      <td>Technology</td>\n",
       "      <td>Copiers</td>\n",
       "      <td>Canon imageCLASS 2200 Advanced Copier</td>\n",
       "      <td>11199.968</td>\n",
       "      <td>4</td>\n",
       "      <td>0.2</td>\n",
       "      <td>3919.9888</td>\n",
       "    </tr>\n",
       "    <tr>\n",
       "      <th>4190</th>\n",
       "      <td>Newark</td>\n",
       "      <td>Technology</td>\n",
       "      <td>Copiers</td>\n",
       "      <td>Canon imageCLASS 2200 Advanced Copier</td>\n",
       "      <td>10499.970</td>\n",
       "      <td>3</td>\n",
       "      <td>0.0</td>\n",
       "      <td>5039.9856</td>\n",
       "    </tr>\n",
       "    <tr>\n",
       "      <th>9039</th>\n",
       "      <td>Detroit</td>\n",
       "      <td>Office Supplies</td>\n",
       "      <td>Binders</td>\n",
       "      <td>GBC Ibimaster 500 Manual ProClick Binding System</td>\n",
       "      <td>9892.740</td>\n",
       "      <td>13</td>\n",
       "      <td>0.0</td>\n",
       "      <td>4946.3700</td>\n",
       "    </tr>\n",
       "    <tr>\n",
       "      <th>4098</th>\n",
       "      <td>Minneapolis</td>\n",
       "      <td>Office Supplies</td>\n",
       "      <td>Binders</td>\n",
       "      <td>Ibico EPK-21 Electric Binding System</td>\n",
       "      <td>9449.950</td>\n",
       "      <td>5</td>\n",
       "      <td>0.0</td>\n",
       "      <td>4630.4755</td>\n",
       "    </tr>\n",
       "    <tr>\n",
       "      <th>4277</th>\n",
       "      <td>Lakewood</td>\n",
       "      <td>Technology</td>\n",
       "      <td>Machines</td>\n",
       "      <td>3D Systems Cube Printer, 2nd Generation, Magenta</td>\n",
       "      <td>9099.930</td>\n",
       "      <td>7</td>\n",
       "      <td>0.0</td>\n",
       "      <td>2365.9818</td>\n",
       "    </tr>\n",
       "    <tr>\n",
       "      <th>8488</th>\n",
       "      <td>Arlington</td>\n",
       "      <td>Technology</td>\n",
       "      <td>Machines</td>\n",
       "      <td>HP Designjet T520 Inkjet Large Format Printer ...</td>\n",
       "      <td>8749.950</td>\n",
       "      <td>5</td>\n",
       "      <td>0.0</td>\n",
       "      <td>2799.9840</td>\n",
       "    </tr>\n",
       "    <tr>\n",
       "      <th>6425</th>\n",
       "      <td>Philadelphia</td>\n",
       "      <td>Technology</td>\n",
       "      <td>Copiers</td>\n",
       "      <td>Canon imageCLASS 2200 Advanced Copier</td>\n",
       "      <td>8399.976</td>\n",
       "      <td>4</td>\n",
       "      <td>0.4</td>\n",
       "      <td>1119.9968</td>\n",
       "    </tr>\n",
       "  </tbody>\n",
       "</table>\n",
       "</div>"
      ],
      "text/plain": [
       "               City         Category Sub-Category  \\\n",
       "2697   Jacksonville       Technology     Machines   \n",
       "6826      Lafayette       Technology      Copiers   \n",
       "8153        Seattle       Technology      Copiers   \n",
       "2623  New York City       Technology      Copiers   \n",
       "4190         Newark       Technology      Copiers   \n",
       "9039        Detroit  Office Supplies      Binders   \n",
       "4098    Minneapolis  Office Supplies      Binders   \n",
       "4277       Lakewood       Technology     Machines   \n",
       "8488      Arlington       Technology     Machines   \n",
       "6425   Philadelphia       Technology      Copiers   \n",
       "\n",
       "                                           Product Name      Sales  Quantity  \\\n",
       "2697  Cisco TelePresence System EX90 Videoconferenci...  22638.480         6   \n",
       "6826              Canon imageCLASS 2200 Advanced Copier  17499.950         5   \n",
       "8153              Canon imageCLASS 2200 Advanced Copier  13999.960         4   \n",
       "2623              Canon imageCLASS 2200 Advanced Copier  11199.968         4   \n",
       "4190              Canon imageCLASS 2200 Advanced Copier  10499.970         3   \n",
       "9039   GBC Ibimaster 500 Manual ProClick Binding System   9892.740        13   \n",
       "4098               Ibico EPK-21 Electric Binding System   9449.950         5   \n",
       "4277   3D Systems Cube Printer, 2nd Generation, Magenta   9099.930         7   \n",
       "8488  HP Designjet T520 Inkjet Large Format Printer ...   8749.950         5   \n",
       "6425              Canon imageCLASS 2200 Advanced Copier   8399.976         4   \n",
       "\n",
       "      Discount     Profit  \n",
       "2697       0.5 -1811.0784  \n",
       "6826       0.0  8399.9760  \n",
       "8153       0.0  6719.9808  \n",
       "2623       0.2  3919.9888  \n",
       "4190       0.0  5039.9856  \n",
       "9039       0.0  4946.3700  \n",
       "4098       0.0  4630.4755  \n",
       "4277       0.0  2365.9818  \n",
       "8488       0.0  2799.9840  \n",
       "6425       0.4  1119.9968  "
      ]
     },
     "execution_count": 34,
     "metadata": {},
     "output_type": "execute_result"
    }
   ],
   "source": [
    "(df.loc[sales_outliers_sorted.index.tolist()][['City', 'Category', 'Sub-Category', 'Product Name', \n",
    "                                              'Sales', 'Quantity', 'Discount', 'Profit']]).head(10)"
   ]
  },
  {
   "cell_type": "markdown",
   "metadata": {},
   "source": [
    "### View Bottom 10 Outlier Transactions"
   ]
  },
  {
   "cell_type": "code",
   "execution_count": 35,
   "metadata": {},
   "outputs": [
    {
     "data": {
      "text/html": [
       "<div>\n",
       "<style scoped>\n",
       "    .dataframe tbody tr th:only-of-type {\n",
       "        vertical-align: middle;\n",
       "    }\n",
       "\n",
       "    .dataframe tbody tr th {\n",
       "        vertical-align: top;\n",
       "    }\n",
       "\n",
       "    .dataframe thead th {\n",
       "        text-align: right;\n",
       "    }\n",
       "</style>\n",
       "<table border=\"1\" class=\"dataframe\">\n",
       "  <thead>\n",
       "    <tr style=\"text-align: right;\">\n",
       "      <th></th>\n",
       "      <th>City</th>\n",
       "      <th>Category</th>\n",
       "      <th>Sub-Category</th>\n",
       "      <th>Product Name</th>\n",
       "      <th>Sales</th>\n",
       "      <th>Quantity</th>\n",
       "      <th>Discount</th>\n",
       "      <th>Profit</th>\n",
       "    </tr>\n",
       "  </thead>\n",
       "  <tbody>\n",
       "    <tr>\n",
       "      <th>3986</th>\n",
       "      <td>Plainfield</td>\n",
       "      <td>Office Supplies</td>\n",
       "      <td>Storage</td>\n",
       "      <td>Tennsco 16-Compartment Lockers with Coat Rack</td>\n",
       "      <td>2591.560</td>\n",
       "      <td>4</td>\n",
       "      <td>0.0</td>\n",
       "      <td>621.9744</td>\n",
       "    </tr>\n",
       "    <tr>\n",
       "      <th>1805</th>\n",
       "      <td>Los Angeles</td>\n",
       "      <td>Technology</td>\n",
       "      <td>Phones</td>\n",
       "      <td>Samsung Galaxy Note 2</td>\n",
       "      <td>2575.944</td>\n",
       "      <td>7</td>\n",
       "      <td>0.2</td>\n",
       "      <td>257.5944</td>\n",
       "    </tr>\n",
       "    <tr>\n",
       "      <th>7474</th>\n",
       "      <td>Henderson</td>\n",
       "      <td>Furniture</td>\n",
       "      <td>Chairs</td>\n",
       "      <td>Global Deluxe High-Back Manager's Chair</td>\n",
       "      <td>2573.820</td>\n",
       "      <td>9</td>\n",
       "      <td>0.0</td>\n",
       "      <td>746.4078</td>\n",
       "    </tr>\n",
       "    <tr>\n",
       "      <th>6884</th>\n",
       "      <td>Minneapolis</td>\n",
       "      <td>Furniture</td>\n",
       "      <td>Chairs</td>\n",
       "      <td>Hon Pagoda Stacking Chairs</td>\n",
       "      <td>2567.840</td>\n",
       "      <td>8</td>\n",
       "      <td>0.0</td>\n",
       "      <td>770.3520</td>\n",
       "    </tr>\n",
       "    <tr>\n",
       "      <th>8271</th>\n",
       "      <td>New York City</td>\n",
       "      <td>Furniture</td>\n",
       "      <td>Chairs</td>\n",
       "      <td>Hon 4700 Series Mobuis Mid-Back Task Chairs wi...</td>\n",
       "      <td>2563.056</td>\n",
       "      <td>8</td>\n",
       "      <td>0.1</td>\n",
       "      <td>313.2624</td>\n",
       "    </tr>\n",
       "    <tr>\n",
       "      <th>3011</th>\n",
       "      <td>Louisville</td>\n",
       "      <td>Technology</td>\n",
       "      <td>Machines</td>\n",
       "      <td>Lexmark MX611dhe Monochrome Laser Printer</td>\n",
       "      <td>2549.985</td>\n",
       "      <td>5</td>\n",
       "      <td>0.7</td>\n",
       "      <td>-3399.9800</td>\n",
       "    </tr>\n",
       "    <tr>\n",
       "      <th>6010</th>\n",
       "      <td>Los Angeles</td>\n",
       "      <td>Technology</td>\n",
       "      <td>Machines</td>\n",
       "      <td>Zebra GX420t Direct Thermal/Thermal Transfer P...</td>\n",
       "      <td>2548.560</td>\n",
       "      <td>6</td>\n",
       "      <td>0.2</td>\n",
       "      <td>286.7130</td>\n",
       "    </tr>\n",
       "    <tr>\n",
       "      <th>7280</th>\n",
       "      <td>Columbia</td>\n",
       "      <td>Office Supplies</td>\n",
       "      <td>Binders</td>\n",
       "      <td>Fellowes PB500 Electric Punch Plastic Comb Bin...</td>\n",
       "      <td>2541.980</td>\n",
       "      <td>2</td>\n",
       "      <td>0.0</td>\n",
       "      <td>1270.9900</td>\n",
       "    </tr>\n",
       "    <tr>\n",
       "      <th>1438</th>\n",
       "      <td>Amarillo</td>\n",
       "      <td>Furniture</td>\n",
       "      <td>Chairs</td>\n",
       "      <td>HON 5400 Series Task Chairs for Big and Tall</td>\n",
       "      <td>2453.430</td>\n",
       "      <td>5</td>\n",
       "      <td>0.3</td>\n",
       "      <td>-350.4900</td>\n",
       "    </tr>\n",
       "    <tr>\n",
       "      <th>3580</th>\n",
       "      <td>Jackson</td>\n",
       "      <td>Furniture</td>\n",
       "      <td>Tables</td>\n",
       "      <td>Office Impressions End Table, 20-1/2\"H x 24\"W ...</td>\n",
       "      <td>2430.080</td>\n",
       "      <td>8</td>\n",
       "      <td>0.0</td>\n",
       "      <td>388.8128</td>\n",
       "    </tr>\n",
       "  </tbody>\n",
       "</table>\n",
       "</div>"
      ],
      "text/plain": [
       "               City         Category Sub-Category  \\\n",
       "3986     Plainfield  Office Supplies      Storage   \n",
       "1805    Los Angeles       Technology       Phones   \n",
       "7474      Henderson        Furniture       Chairs   \n",
       "6884    Minneapolis        Furniture       Chairs   \n",
       "8271  New York City        Furniture       Chairs   \n",
       "3011     Louisville       Technology     Machines   \n",
       "6010    Los Angeles       Technology     Machines   \n",
       "7280       Columbia  Office Supplies      Binders   \n",
       "1438       Amarillo        Furniture       Chairs   \n",
       "3580        Jackson        Furniture       Tables   \n",
       "\n",
       "                                           Product Name     Sales  Quantity  \\\n",
       "3986      Tennsco 16-Compartment Lockers with Coat Rack  2591.560         4   \n",
       "1805                              Samsung Galaxy Note 2  2575.944         7   \n",
       "7474            Global Deluxe High-Back Manager's Chair  2573.820         9   \n",
       "6884                         Hon Pagoda Stacking Chairs  2567.840         8   \n",
       "8271  Hon 4700 Series Mobuis Mid-Back Task Chairs wi...  2563.056         8   \n",
       "3011          Lexmark MX611dhe Monochrome Laser Printer  2549.985         5   \n",
       "6010  Zebra GX420t Direct Thermal/Thermal Transfer P...  2548.560         6   \n",
       "7280  Fellowes PB500 Electric Punch Plastic Comb Bin...  2541.980         2   \n",
       "1438       HON 5400 Series Task Chairs for Big and Tall  2453.430         5   \n",
       "3580  Office Impressions End Table, 20-1/2\"H x 24\"W ...  2430.080         8   \n",
       "\n",
       "      Discount     Profit  \n",
       "3986       0.0   621.9744  \n",
       "1805       0.2   257.5944  \n",
       "7474       0.0   746.4078  \n",
       "6884       0.0   770.3520  \n",
       "8271       0.1   313.2624  \n",
       "3011       0.7 -3399.9800  \n",
       "6010       0.2   286.7130  \n",
       "7280       0.0  1270.9900  \n",
       "1438       0.3  -350.4900  \n",
       "3580       0.0   388.8128  "
      ]
     },
     "execution_count": 35,
     "metadata": {},
     "output_type": "execute_result"
    }
   ],
   "source": [
    "(df.loc[sales_outliers_sorted.index.tolist()][['City', 'Category', 'Sub-Category', 'Product Name', \n",
    "                                              'Sales', 'Quantity', 'Discount', 'Profit']]).tail(10)"
   ]
  },
  {
   "cell_type": "markdown",
   "metadata": {},
   "source": [
    "## Q 3.4: Univariate Anomaly Detection on Profit using Isolation Forest\n",
    "\n",
    "In this section you will use the learning from Section 3.3 and implement anomaly detecting using isolation on the __`Profit`__ attribute. Since we have both +ve (profits) and -ve (losses) values in the distribution, we will try to find anomalies for each."
   ]
  },
  {
   "cell_type": "markdown",
   "metadata": {},
   "source": [
    "### Initialize and Train Model\n",
    "\n",
    "__Your Turn:__ Initialize the isolation forest model with similar hyperparameters as Section 3.3 and also assuming the proportion of outliers to be 1% of the total data (using the contamination setting)"
   ]
  },
  {
   "cell_type": "code",
   "execution_count": null,
   "metadata": {},
   "outputs": [],
   "source": [
    "#<FILL BLANKS HERE>"
   ]
  },
  {
   "cell_type": "code",
   "execution_count": 36,
   "metadata": {},
   "outputs": [
    {
     "data": {
      "text/plain": [
       "IsolationForest(contamination=0.01)"
      ]
     },
     "execution_count": 36,
     "metadata": {},
     "output_type": "execute_result"
    }
   ],
   "source": [
    "from sklearn.ensemble import IsolationForest\n",
    "\n",
    "profit_ifmodel = IsolationForest(n_estimators=100, contamination=0.01)\n",
    "profit_ifmodel.fit(df[['Profit']])"
   ]
  },
  {
   "cell_type": "markdown",
   "metadata": {},
   "source": [
    "### Visualize Outlier Regions\n",
    "\n",
    "__Your turn:__ Visualize the upper and lower outlier regions in the distribution similar to what you did in 3.3"
   ]
  },
  {
   "cell_type": "code",
   "execution_count": null,
   "metadata": {},
   "outputs": [],
   "source": [
    "#<FILL BLANKS HERE>"
   ]
  },
  {
   "cell_type": "code",
   "execution_count": 37,
   "metadata": {},
   "outputs": [
    {
     "data": {
      "image/png": "[encoded data removed]",
      "text/plain": [
       "<Figure size 864x432 with 1 Axes>"
      ]
     },
     "metadata": {
      "needs_background": "light"
     },
     "output_type": "display_data"
    }
   ],
   "source": [
    "xx = np.linspace(df['Profit'].min(), df['Profit'].max(), len(df)).reshape(-1,1)\n",
    "anomaly_score = profit_ifmodel.decision_function(xx)\n",
    "outlier = profit_ifmodel.predict(xx)\n",
    "plt.figure(figsize=(12, 6))\n",
    "plt.plot(xx, anomaly_score, label='anomaly score')\n",
    "plt.fill_between(xx.T[0], np.min(anomaly_score), np.max(anomaly_score), \n",
    "                 where=outlier==-1, color='r', \n",
    "                 alpha=.4, label='outlier region')\n",
    "plt.legend()\n",
    "plt.ylabel('anomaly score')\n",
    "plt.xlabel('Profit');"
   ]
  },
  {
   "cell_type": "markdown",
   "metadata": {},
   "source": [
    "### Filter and Sort Outliers\n",
    "\n",
    "__Your Turn:__ Predict outliers in our dataset using our trained model and filter out the outlier observations and sort by descending order and view the top 5 outlier values similar to 3.3"
   ]
  },
  {
   "cell_type": "code",
   "execution_count": null,
   "metadata": {},
   "outputs": [],
   "source": [
    "#<FILL BLANKS HERE>"
   ]
  },
  {
   "cell_type": "code",
   "execution_count": 38,
   "metadata": {},
   "outputs": [
    {
     "name": "stdout",
     "output_type": "stream",
     "text": [
      "Total Profit Outliers: 99\n"
     ]
    },
    {
     "data": {
      "text/plain": [
       "6826    8399.9760\n",
       "8153    6719.9808\n",
       "4190    5039.9856\n",
       "9039    4946.3700\n",
       "4098    4630.4755\n",
       "Name: Profit, dtype: float64"
      ]
     },
     "execution_count": 38,
     "metadata": {},
     "output_type": "execute_result"
    }
   ],
   "source": [
    "outlier_predictions = profit_ifmodel.predict(df[['Profit']])\n",
    "\n",
    "profit_outliers_df = df[['Profit']]\n",
    "profit_outliers_df['Outlier'] = outlier_predictions\n",
    "profit_outliers_df = profit_outliers_df[profit_outliers_df['Outlier'] == -1]['Profit']\n",
    "\n",
    "print('Total Profit Outliers:', len(profit_outliers_df))\n",
    "profit_outliers_sorted = profit_outliers_df.sort_values(ascending=False)\n",
    "profit_outliers_sorted.head(5)"
   ]
  },
  {
   "cell_type": "markdown",
   "metadata": {},
   "source": [
    "### View Top 10 Outlier Transactions\n",
    "\n",
    "__Your turn:__ View the top ten transactions based on highest profits"
   ]
  },
  {
   "cell_type": "code",
   "execution_count": null,
   "metadata": {},
   "outputs": [],
   "source": [
    "#<FILL BLANKS HERE>"
   ]
  },
  {
   "cell_type": "code",
   "execution_count": 39,
   "metadata": {},
   "outputs": [
    {
     "data": {
      "text/html": [
       "<div>\n",
       "<style scoped>\n",
       "    .dataframe tbody tr th:only-of-type {\n",
       "        vertical-align: middle;\n",
       "    }\n",
       "\n",
       "    .dataframe tbody tr th {\n",
       "        vertical-align: top;\n",
       "    }\n",
       "\n",
       "    .dataframe thead th {\n",
       "        text-align: right;\n",
       "    }\n",
       "</style>\n",
       "<table border=\"1\" class=\"dataframe\">\n",
       "  <thead>\n",
       "    <tr style=\"text-align: right;\">\n",
       "      <th></th>\n",
       "      <th>City</th>\n",
       "      <th>Category</th>\n",
       "      <th>Sub-Category</th>\n",
       "      <th>Product Name</th>\n",
       "      <th>Sales</th>\n",
       "      <th>Quantity</th>\n",
       "      <th>Discount</th>\n",
       "      <th>Profit</th>\n",
       "    </tr>\n",
       "  </thead>\n",
       "  <tbody>\n",
       "    <tr>\n",
       "      <th>6826</th>\n",
       "      <td>Lafayette</td>\n",
       "      <td>Technology</td>\n",
       "      <td>Copiers</td>\n",
       "      <td>Canon imageCLASS 2200 Advanced Copier</td>\n",
       "      <td>17499.950</td>\n",
       "      <td>5</td>\n",
       "      <td>0.0</td>\n",
       "      <td>8399.9760</td>\n",
       "    </tr>\n",
       "    <tr>\n",
       "      <th>8153</th>\n",
       "      <td>Seattle</td>\n",
       "      <td>Technology</td>\n",
       "      <td>Copiers</td>\n",
       "      <td>Canon imageCLASS 2200 Advanced Copier</td>\n",
       "      <td>13999.960</td>\n",
       "      <td>4</td>\n",
       "      <td>0.0</td>\n",
       "      <td>6719.9808</td>\n",
       "    </tr>\n",
       "    <tr>\n",
       "      <th>4190</th>\n",
       "      <td>Newark</td>\n",
       "      <td>Technology</td>\n",
       "      <td>Copiers</td>\n",
       "      <td>Canon imageCLASS 2200 Advanced Copier</td>\n",
       "      <td>10499.970</td>\n",
       "      <td>3</td>\n",
       "      <td>0.0</td>\n",
       "      <td>5039.9856</td>\n",
       "    </tr>\n",
       "    <tr>\n",
       "      <th>9039</th>\n",
       "      <td>Detroit</td>\n",
       "      <td>Office Supplies</td>\n",
       "      <td>Binders</td>\n",
       "      <td>GBC Ibimaster 500 Manual ProClick Binding System</td>\n",
       "      <td>9892.740</td>\n",
       "      <td>13</td>\n",
       "      <td>0.0</td>\n",
       "      <td>4946.3700</td>\n",
       "    </tr>\n",
       "    <tr>\n",
       "      <th>4098</th>\n",
       "      <td>Minneapolis</td>\n",
       "      <td>Office Supplies</td>\n",
       "      <td>Binders</td>\n",
       "      <td>Ibico EPK-21 Electric Binding System</td>\n",
       "      <td>9449.950</td>\n",
       "      <td>5</td>\n",
       "      <td>0.0</td>\n",
       "      <td>4630.4755</td>\n",
       "    </tr>\n",
       "    <tr>\n",
       "      <th>2623</th>\n",
       "      <td>New York City</td>\n",
       "      <td>Technology</td>\n",
       "      <td>Copiers</td>\n",
       "      <td>Canon imageCLASS 2200 Advanced Copier</td>\n",
       "      <td>11199.968</td>\n",
       "      <td>4</td>\n",
       "      <td>0.2</td>\n",
       "      <td>3919.9888</td>\n",
       "    </tr>\n",
       "    <tr>\n",
       "      <th>509</th>\n",
       "      <td>Atlanta</td>\n",
       "      <td>Office Supplies</td>\n",
       "      <td>Binders</td>\n",
       "      <td>Fellowes PB500 Electric Punch Plastic Comb Bin...</td>\n",
       "      <td>6354.950</td>\n",
       "      <td>5</td>\n",
       "      <td>0.0</td>\n",
       "      <td>3177.4750</td>\n",
       "    </tr>\n",
       "    <tr>\n",
       "      <th>8488</th>\n",
       "      <td>Arlington</td>\n",
       "      <td>Technology</td>\n",
       "      <td>Machines</td>\n",
       "      <td>HP Designjet T520 Inkjet Large Format Printer ...</td>\n",
       "      <td>8749.950</td>\n",
       "      <td>5</td>\n",
       "      <td>0.0</td>\n",
       "      <td>2799.9840</td>\n",
       "    </tr>\n",
       "    <tr>\n",
       "      <th>7666</th>\n",
       "      <td>Providence</td>\n",
       "      <td>Technology</td>\n",
       "      <td>Copiers</td>\n",
       "      <td>Hewlett Packard LaserJet 3310 Copier</td>\n",
       "      <td>5399.910</td>\n",
       "      <td>9</td>\n",
       "      <td>0.0</td>\n",
       "      <td>2591.9568</td>\n",
       "    </tr>\n",
       "    <tr>\n",
       "      <th>6520</th>\n",
       "      <td>Jackson</td>\n",
       "      <td>Office Supplies</td>\n",
       "      <td>Binders</td>\n",
       "      <td>GBC DocuBind P400 Electric Binding System</td>\n",
       "      <td>5443.960</td>\n",
       "      <td>4</td>\n",
       "      <td>0.0</td>\n",
       "      <td>2504.2216</td>\n",
       "    </tr>\n",
       "  </tbody>\n",
       "</table>\n",
       "</div>"
      ],
      "text/plain": [
       "               City         Category Sub-Category  \\\n",
       "6826      Lafayette       Technology      Copiers   \n",
       "8153        Seattle       Technology      Copiers   \n",
       "4190         Newark       Technology      Copiers   \n",
       "9039        Detroit  Office Supplies      Binders   \n",
       "4098    Minneapolis  Office Supplies      Binders   \n",
       "2623  New York City       Technology      Copiers   \n",
       "509         Atlanta  Office Supplies      Binders   \n",
       "8488      Arlington       Technology     Machines   \n",
       "7666     Providence       Technology      Copiers   \n",
       "6520        Jackson  Office Supplies      Binders   \n",
       "\n",
       "                                           Product Name      Sales  Quantity  \\\n",
       "6826              Canon imageCLASS 2200 Advanced Copier  17499.950         5   \n",
       "8153              Canon imageCLASS 2200 Advanced Copier  13999.960         4   \n",
       "4190              Canon imageCLASS 2200 Advanced Copier  10499.970         3   \n",
       "9039   GBC Ibimaster 500 Manual ProClick Binding System   9892.740        13   \n",
       "4098               Ibico EPK-21 Electric Binding System   9449.950         5   \n",
       "2623              Canon imageCLASS 2200 Advanced Copier  11199.968         4   \n",
       "509   Fellowes PB500 Electric Punch Plastic Comb Bin...   6354.950         5   \n",
       "8488  HP Designjet T520 Inkjet Large Format Printer ...   8749.950         5   \n",
       "7666               Hewlett Packard LaserJet 3310 Copier   5399.910         9   \n",
       "6520          GBC DocuBind P400 Electric Binding System   5443.960         4   \n",
       "\n",
       "      Discount     Profit  \n",
       "6826       0.0  8399.9760  \n",
       "8153       0.0  6719.9808  \n",
       "4190       0.0  5039.9856  \n",
       "9039       0.0  4946.3700  \n",
       "4098       0.0  4630.4755  \n",
       "2623       0.2  3919.9888  \n",
       "509        0.0  3177.4750  \n",
       "8488       0.0  2799.9840  \n",
       "7666       0.0  2591.9568  \n",
       "6520       0.0  2504.2216  "
      ]
     },
     "execution_count": 39,
     "metadata": {},
     "output_type": "execute_result"
    }
   ],
   "source": [
    "(df.loc[profit_outliers_sorted.index.tolist()][['City', 'Category', 'Sub-Category', 'Product Name', \n",
    "                                              'Sales', 'Quantity', 'Discount', 'Profit']]).head(10)"
   ]
  },
  {
   "cell_type": "markdown",
   "metadata": {},
   "source": [
    "### View Bottom 10 Outlier Transactions\n",
    "\n",
    "__Your turn:__ View the bottom ten transactions based on lowest profits (highest losses)"
   ]
  },
  {
   "cell_type": "code",
   "execution_count": null,
   "metadata": {},
   "outputs": [],
   "source": [
    "#<FILL BLANKS HERE>"
   ]
  },
  {
   "cell_type": "code",
   "execution_count": 40,
   "metadata": {},
   "outputs": [
    {
     "data": {
      "text/html": [
       "<div>\n",
       "<style scoped>\n",
       "    .dataframe tbody tr th:only-of-type {\n",
       "        vertical-align: middle;\n",
       "    }\n",
       "\n",
       "    .dataframe tbody tr th {\n",
       "        vertical-align: top;\n",
       "    }\n",
       "\n",
       "    .dataframe thead th {\n",
       "        text-align: right;\n",
       "    }\n",
       "</style>\n",
       "<table border=\"1\" class=\"dataframe\">\n",
       "  <thead>\n",
       "    <tr style=\"text-align: right;\">\n",
       "      <th></th>\n",
       "      <th>City</th>\n",
       "      <th>Category</th>\n",
       "      <th>Sub-Category</th>\n",
       "      <th>Product Name</th>\n",
       "      <th>Sales</th>\n",
       "      <th>Quantity</th>\n",
       "      <th>Discount</th>\n",
       "      <th>Profit</th>\n",
       "    </tr>\n",
       "  </thead>\n",
       "  <tbody>\n",
       "    <tr>\n",
       "      <th>2697</th>\n",
       "      <td>Jacksonville</td>\n",
       "      <td>Technology</td>\n",
       "      <td>Machines</td>\n",
       "      <td>Cisco TelePresence System EX90 Videoconferenci...</td>\n",
       "      <td>22638.480</td>\n",
       "      <td>6</td>\n",
       "      <td>0.5</td>\n",
       "      <td>-1811.0784</td>\n",
       "    </tr>\n",
       "    <tr>\n",
       "      <th>1199</th>\n",
       "      <td>Houston</td>\n",
       "      <td>Office Supplies</td>\n",
       "      <td>Binders</td>\n",
       "      <td>GBC DocuBind P400 Electric Binding System</td>\n",
       "      <td>1088.792</td>\n",
       "      <td>4</td>\n",
       "      <td>0.8</td>\n",
       "      <td>-1850.9464</td>\n",
       "    </tr>\n",
       "    <tr>\n",
       "      <th>9639</th>\n",
       "      <td>Concord</td>\n",
       "      <td>Furniture</td>\n",
       "      <td>Tables</td>\n",
       "      <td>Chromcraft Bull-Nose Wood Oval Conference Tabl...</td>\n",
       "      <td>4297.644</td>\n",
       "      <td>13</td>\n",
       "      <td>0.4</td>\n",
       "      <td>-1862.3124</td>\n",
       "    </tr>\n",
       "    <tr>\n",
       "      <th>5310</th>\n",
       "      <td>Houston</td>\n",
       "      <td>Office Supplies</td>\n",
       "      <td>Binders</td>\n",
       "      <td>Fellowes PB500 Electric Punch Plastic Comb Bin...</td>\n",
       "      <td>1525.188</td>\n",
       "      <td>6</td>\n",
       "      <td>0.8</td>\n",
       "      <td>-2287.7820</td>\n",
       "    </tr>\n",
       "    <tr>\n",
       "      <th>3151</th>\n",
       "      <td>Newark</td>\n",
       "      <td>Technology</td>\n",
       "      <td>Machines</td>\n",
       "      <td>Cubify CubeX 3D Printer Double Head Print</td>\n",
       "      <td>1799.994</td>\n",
       "      <td>2</td>\n",
       "      <td>0.7</td>\n",
       "      <td>-2639.9912</td>\n",
       "    </tr>\n",
       "    <tr>\n",
       "      <th>4991</th>\n",
       "      <td>Chicago</td>\n",
       "      <td>Office Supplies</td>\n",
       "      <td>Binders</td>\n",
       "      <td>Ibico EPK-21 Electric Binding System</td>\n",
       "      <td>1889.990</td>\n",
       "      <td>5</td>\n",
       "      <td>0.8</td>\n",
       "      <td>-2929.4845</td>\n",
       "    </tr>\n",
       "    <tr>\n",
       "      <th>3011</th>\n",
       "      <td>Louisville</td>\n",
       "      <td>Technology</td>\n",
       "      <td>Machines</td>\n",
       "      <td>Lexmark MX611dhe Monochrome Laser Printer</td>\n",
       "      <td>2549.985</td>\n",
       "      <td>5</td>\n",
       "      <td>0.7</td>\n",
       "      <td>-3399.9800</td>\n",
       "    </tr>\n",
       "    <tr>\n",
       "      <th>9774</th>\n",
       "      <td>San Antonio</td>\n",
       "      <td>Office Supplies</td>\n",
       "      <td>Binders</td>\n",
       "      <td>GBC DocuBind P400 Electric Binding System</td>\n",
       "      <td>2177.584</td>\n",
       "      <td>8</td>\n",
       "      <td>0.8</td>\n",
       "      <td>-3701.8928</td>\n",
       "    </tr>\n",
       "    <tr>\n",
       "      <th>683</th>\n",
       "      <td>Burlington</td>\n",
       "      <td>Technology</td>\n",
       "      <td>Machines</td>\n",
       "      <td>Cubify CubeX 3D Printer Triple Head Print</td>\n",
       "      <td>7999.980</td>\n",
       "      <td>4</td>\n",
       "      <td>0.5</td>\n",
       "      <td>-3839.9904</td>\n",
       "    </tr>\n",
       "    <tr>\n",
       "      <th>7772</th>\n",
       "      <td>Lancaster</td>\n",
       "      <td>Technology</td>\n",
       "      <td>Machines</td>\n",
       "      <td>Cubify CubeX 3D Printer Double Head Print</td>\n",
       "      <td>4499.985</td>\n",
       "      <td>5</td>\n",
       "      <td>0.7</td>\n",
       "      <td>-6599.9780</td>\n",
       "    </tr>\n",
       "  </tbody>\n",
       "</table>\n",
       "</div>"
      ],
      "text/plain": [
       "              City         Category Sub-Category  \\\n",
       "2697  Jacksonville       Technology     Machines   \n",
       "1199       Houston  Office Supplies      Binders   \n",
       "9639       Concord        Furniture       Tables   \n",
       "5310       Houston  Office Supplies      Binders   \n",
       "3151        Newark       Technology     Machines   \n",
       "4991       Chicago  Office Supplies      Binders   \n",
       "3011    Louisville       Technology     Machines   \n",
       "9774   San Antonio  Office Supplies      Binders   \n",
       "683     Burlington       Technology     Machines   \n",
       "7772     Lancaster       Technology     Machines   \n",
       "\n",
       "                                           Product Name      Sales  Quantity  \\\n",
       "2697  Cisco TelePresence System EX90 Videoconferenci...  22638.480         6   \n",
       "1199          GBC DocuBind P400 Electric Binding System   1088.792         4   \n",
       "9639  Chromcraft Bull-Nose Wood Oval Conference Tabl...   4297.644        13   \n",
       "5310  Fellowes PB500 Electric Punch Plastic Comb Bin...   1525.188         6   \n",
       "3151          Cubify CubeX 3D Printer Double Head Print   1799.994         2   \n",
       "4991               Ibico EPK-21 Electric Binding System   1889.990         5   \n",
       "3011          Lexmark MX611dhe Monochrome Laser Printer   2549.985         5   \n",
       "9774          GBC DocuBind P400 Electric Binding System   2177.584         8   \n",
       "683           Cubify CubeX 3D Printer Triple Head Print   7999.980         4   \n",
       "7772          Cubify CubeX 3D Printer Double Head Print   4499.985         5   \n",
       "\n",
       "      Discount     Profit  \n",
       "2697       0.5 -1811.0784  \n",
       "1199       0.8 -1850.9464  \n",
       "9639       0.4 -1862.3124  \n",
       "5310       0.8 -2287.7820  \n",
       "3151       0.7 -2639.9912  \n",
       "4991       0.8 -2929.4845  \n",
       "3011       0.7 -3399.9800  \n",
       "9774       0.8 -3701.8928  \n",
       "683        0.5 -3839.9904  \n",
       "7772       0.7 -6599.9780  "
      ]
     },
     "execution_count": 40,
     "metadata": {},
     "output_type": "execute_result"
    }
   ],
   "source": [
    "(df.loc[profit_outliers_sorted.index.tolist()][['City', 'Category', 'Sub-Category', 'Product Name', \n",
    "                                              'Sales', 'Quantity', 'Discount', 'Profit']]).tail(10)"
   ]
  },
  {
   "cell_type": "markdown",
   "metadata": {},
   "source": [
    "### Q: Do you observe any similarity in the results with the previous method?"
   ]
  },
  {
   "cell_type": "markdown",
   "metadata": {},
   "source": [
    "__A:__ Yes"
   ]
  },
  {
   "cell_type": "markdown",
   "metadata": {},
   "source": [
    "Another interesting approach to check out would be the [Generalized ESD Test for Outliers](https://www.itl.nist.gov/div898/handbook/eda/section3/eda35h3.htm)\n",
    "\n"
   ]
  },
  {
   "cell_type": "markdown",
   "metadata": {},
   "source": [
    "# 4. Multivariate Anomaly Detection\n",
    "\n",
    "Multivariate is basically analysis done on more than one attribute or feature at a time. In this section, we will perform anomaly detection on two attributes (__`Discount`__ & __`Profit`__) using the following methods.\n",
    "\n",
    "- Clustering Based Local Outlier Factor (CBLOF)\n",
    "- Isolation Forest\n",
    "- Auto-Encoders\n",
    "\n",
    "You will learn how to train these models to detect outliers and also visualize these outliers. For this section we will be using the __[`pyod`](https://pyod.readthedocs.io/en/latest/)__ package so make sure you have it installed."
   ]
  },
  {
   "cell_type": "code",
   "execution_count": null,
   "metadata": {},
   "outputs": [],
   "source": [
    "!pip install pyod"
   ]
  },
  {
   "cell_type": "markdown",
   "metadata": {},
   "source": [
    "## Extract Subset Data for Outlier Detection"
   ]
  },
  {
   "cell_type": "code",
   "execution_count": null,
   "metadata": {},
   "outputs": [],
   "source": [
    "cols = ['Discount', 'Profit']\n",
    "subset_df = df[cols]\n",
    "subset_df.head()"
   ]
  },
  {
   "cell_type": "markdown",
   "metadata": {},
   "source": [
    "## Feature Scaling"
   ]
  },
  {
   "cell_type": "code",
   "execution_count": null,
   "metadata": {},
   "outputs": [],
   "source": [
    "from sklearn.preprocessing import MinMaxScaler\n",
    "\n",
    "mms = MinMaxScaler(feature_range=(0, 1))\n",
    "subset_df[cols] = mms.fit_transform(subset_df)\n",
    "subset_df.head()"
   ]
  },
  {
   "cell_type": "markdown",
   "metadata": {},
   "source": [
    "## 4.1: Multivariate Anomaly Detection with Clustering Based Local Outlier Factor (CBLOF)\n",
    "\n",
    "The CBLOF model takes as an input the dataset and the cluster model that was generated by a clustering algorithm. It classifies the clusters into small clusters and large clusters using the parameters alpha and beta. The anomaly score is then calculated based on the size of the cluster the point belongs to as well as the distance to the nearest large cluster.\n",
    "\n",
    "By default, kMeans is used for clustering algorithm. You can read more in the [official documentation](https://pyod.readthedocs.io/en/latest/pyod.models.html#module-pyod.models.cblof)"
   ]
  },
  {
   "cell_type": "markdown",
   "metadata": {},
   "source": [
    "### Initialize and Train Model\n",
    "\n",
    "Here we initialize the CBLOF model with some hyperparameters assuming the proportion of outliers to be 1% of the total data (using the `contamination` setting)"
   ]
  },
  {
   "cell_type": "code",
   "execution_count": null,
   "metadata": {},
   "outputs": [],
   "source": [
    "from pyod.models import cblof\n",
    "\n",
    "cblof_model = cblof.CBLOF(contamination=0.01, random_state=42)\n",
    "cblof_model.fit(subset_df)"
   ]
  },
  {
   "cell_type": "markdown",
   "metadata": {},
   "source": [
    "### Filter and Sort Outliers\n",
    "\n",
    "Here we predict outliers in our dataset using our trained model and filter out the outlier observations and sort by descending order and view the top 5 outlier values"
   ]
  },
  {
   "cell_type": "code",
   "execution_count": null,
   "metadata": {},
   "outputs": [],
   "source": [
    "outlier_predictions = cblof_model.predict(subset_df)\n",
    "\n",
    "outliers_df = subset_df.copy(deep=True)\n",
    "outliers_df['Outlier'] = outlier_predictions\n",
    "outliers_df = outliers_df[outliers_df['Outlier'] == 1]\n",
    "\n",
    "print('Total Outliers:', len(outliers_df))\n",
    "outliers_sorted = outliers_df.sort_values(by=['Profit', 'Discount'], ascending=False)\n",
    "outliers_sorted.head(5)"
   ]
  },
  {
   "cell_type": "markdown",
   "metadata": {},
   "source": [
    "### View Bottom 10 Outlier Transactions"
   ]
  },
  {
   "cell_type": "code",
   "execution_count": null,
   "metadata": {},
   "outputs": [],
   "source": [
    "(df.loc[outliers_sorted.index.tolist()][['City', 'Category', 'Sub-Category', 'Product Name', \n",
    "                                              'Sales', 'Quantity', 'Discount', 'Profit']]).tail(10)"
   ]
  },
  {
   "cell_type": "markdown",
   "metadata": {},
   "source": [
    "We can definitely see some huge losses incurred based on giving higher discounts even if the sales amount was high which is interesting as well as concerning."
   ]
  },
  {
   "cell_type": "markdown",
   "metadata": {},
   "source": [
    "## Q 4.2: Multivariate Anomaly Detection with Isolation Forest\n",
    "\n",
    "Here you will detect anomalies using the Isolation Forest model and use the learnings from 4.1. Here you will use the [`pyod`](https://pyod.readthedocs.io/en/latest/pyod.models.html#module-pyod.models.iforest) version of [Isolation Forest](https://pyod.readthedocs.io/en/latest/pyod.models.html#module-pyod.models.iforest) which is basically a wrapper over the `scikit-learn` version but with more functionalities."
   ]
  },
  {
   "cell_type": "markdown",
   "metadata": {},
   "source": [
    "### Initialize and Train Model\n",
    "\n",
    "__Your Turn:__ Initialize the isolation forest model with similar hyperparameters as before and also assuming the proportion of outliers to be 1% of the total data (using the contamination setting)"
   ]
  },
  {
   "cell_type": "code",
   "execution_count": null,
   "metadata": {},
   "outputs": [],
   "source": [
    "from pyod.models import iforest\n",
    "\n",
    "if_model = #<FILL BLANKS HERE>\n",
    "#<FILL BLANKS HERE>"
   ]
  },
  {
   "cell_type": "markdown",
   "metadata": {},
   "source": [
    "### Filter and Sort Outliers\n",
    "\n",
    "__Your Turn:__ Predict outliers in our dataset using our trained model and filter out the outlier observations and sort by descending order and view the top 5 outlier values similar to 4.1"
   ]
  },
  {
   "cell_type": "code",
   "execution_count": null,
   "metadata": {},
   "outputs": [],
   "source": [
    "#<FILL BLANKS HERE>"
   ]
  },
  {
   "cell_type": "markdown",
   "metadata": {},
   "source": [
    "### View Bottom 10 Outlier Transactions\n",
    "\n",
    "__Your turn:__ View the bottom ten transactions "
   ]
  },
  {
   "cell_type": "code",
   "execution_count": null,
   "metadata": {},
   "outputs": [],
   "source": [
    "#<FILL BLANKS HERE>"
   ]
  },
  {
   "cell_type": "markdown",
   "metadata": {},
   "source": [
    "### Q: Do you notice any differences in the results with the previous model?"
   ]
  },
  {
   "cell_type": "markdown",
   "metadata": {},
   "source": [
    "We do notice some transactions with 80% discount and high losses"
   ]
  },
  {
   "cell_type": "markdown",
   "metadata": {},
   "source": [
    "## Q 4.3: Multivariate Anomaly Detection with Auto-encoders\n",
    "\n",
    "Here you will detect anomalies using the Auto-encoder model and use the learnings from 4.1. Here you will use the [Auto-encoder](https://pyod.readthedocs.io/en/latest/pyod.models.html#module-pyod.models.auto_encoder) model from `pyod` which is a deep learning model often used for learning useful data representations in an unsupervised fashion without any labeled data. \n",
    "\n",
    "![](outlier_ae.png)\n",
    "\n",
    "Similar to PCA, AE could be used to detect outlier objects in the data by calculating the reconstruction errors"
   ]
  },
  {
   "cell_type": "markdown",
   "metadata": {},
   "source": [
    "### Initialize Model\n",
    "\n",
    "Here we initiaze an auto-encoder network with a few hidden layers so that we could train it for a 100 epochs"
   ]
  },
  {
   "cell_type": "code",
   "execution_count": null,
   "metadata": {},
   "outputs": [],
   "source": [
    "from pyod.models import auto_encoder\n",
    "\n",
    "ae_model = auto_encoder.AutoEncoder(hidden_neurons=[2, 32, 32, 2], \n",
    "                                    hidden_activation='relu',\n",
    "                                    output_activation='sigmoid',\n",
    "                                    epochs=100,\n",
    "                                    batch_size=32,\n",
    "                                    contamination=0.01)"
   ]
  },
  {
   "cell_type": "markdown",
   "metadata": {},
   "source": [
    "### Train Model\n",
    "\n",
    "__Your turn:__ Train the model by calling the `fit()` function on the right data"
   ]
  },
  {
   "cell_type": "code",
   "execution_count": null,
   "metadata": {},
   "outputs": [],
   "source": [
    "#<FILL BLANKS HERE>"
   ]
  },
  {
   "cell_type": "markdown",
   "metadata": {},
   "source": [
    "### Filter and Sort Outliers\n",
    "\n",
    "__Your Turn:__ Predict outliers in our dataset using our trained model and filter out the outlier observations and sort by descending order and view the top 5 outlier values similar to 4.1"
   ]
  },
  {
   "cell_type": "code",
   "execution_count": null,
   "metadata": {},
   "outputs": [],
   "source": [
    "#<FILL BLANKS HERE>"
   ]
  },
  {
   "cell_type": "markdown",
   "metadata": {},
   "source": [
    "### View Bottom 10 Outlier Transactions\n",
    "\n",
    "__Your turn:__ View the bottom ten transactions "
   ]
  },
  {
   "cell_type": "code",
   "execution_count": null,
   "metadata": {},
   "outputs": [],
   "source": [
    "#<FILL BLANKS HERE>"
   ]
  },
  {
   "cell_type": "markdown",
   "metadata": {},
   "source": [
    "## 4.4: Visualize Anomalies and Compare Anomaly Detection Models\n",
    "\n",
    "Here we will look at the visual plots of anomalies as detected by the above three models"
   ]
  },
  {
   "cell_type": "code",
   "execution_count": null,
   "metadata": {},
   "outputs": [],
   "source": [
    "def visualize_anomalies(model, xx, yy, data_df, ax_obj, subplot_title):\n",
    "    \n",
    "    # predict raw anomaly score\n",
    "    scores_pred = model.decision_function(data_df) * -1\n",
    "    # prediction of a datapoint category outlier or inlier\n",
    "    y_pred = model.predict(data_df)\n",
    "    n_inliers = len(y_pred) - np.count_nonzero(y_pred)\n",
    "    n_outliers = np.count_nonzero(y_pred == 1)\n",
    "\n",
    "\n",
    "    out_df = data_df.copy(deep=True)\n",
    "    out_df['Outlier'] = y_pred.tolist()\n",
    "    # discount - inlier feature 1,  profit - inlier feature 2\n",
    "    inliers_discount = out_df[out_df['Outlier'] == 0]['Discount'].values\n",
    "    inliers_profit = out_df[out_df['Outlier'] == 0]['Profit'].values\n",
    "    # discount - outlier feature 1, profit - outlier feature 2\n",
    "    outliers_discount = out_df[out_df['Outlier'] == 1]['Discount'].values\n",
    "    outliers_profit = out_df[out_df['Outlier'] == 1]['Profit'].values\n",
    "\n",
    "    # Use threshold value to consider a datapoint inlier or outlier\n",
    "    # threshold = stats.scoreatpercentile(scores_pred,100 * outliers_fraction)\n",
    "    threshold = np.percentile(scores_pred, 100 * outliers_fraction)   \n",
    "    # decision function calculates the raw anomaly score for every point\n",
    "    Z = model.decision_function(np.c_[xx.ravel(), yy.ravel()]) * -1\n",
    "    Z = Z.reshape(xx.shape)\n",
    "    # fill blue map colormap from minimum anomaly score to threshold value\n",
    "    ax_obj.contourf(xx, yy, Z, levels=np.linspace(Z.min(), threshold, 7),cmap=plt.cm.Blues_r)\n",
    "    # draw red contour line where anomaly score is equal to thresold\n",
    "    a = ax_obj.contour(xx, yy, Z, levels=[threshold],linewidths=2, colors='red')\n",
    "    # fill orange contour lines where range of anomaly score is from threshold to maximum anomaly score\n",
    "    ax_obj.contourf(xx, yy, Z, levels=[threshold, Z.max()],colors='orange')\n",
    "    b = ax_obj.scatter(inliers_discount, inliers_profit, c='white',s=20, edgecolor='k')\n",
    "    c = ax_obj.scatter(outliers_discount, outliers_profit, c='black',s=20, edgecolor='k')\n",
    "\n",
    "\n",
    "    ax_obj.legend([a.collections[0], b,c], ['learned decision function', 'inliers','outliers'],\n",
    "               prop=matplotlib.font_manager.FontProperties(size=10),loc='upper right')\n",
    "\n",
    "    ax_obj.set_xlim((0, 1))\n",
    "    ax_obj.set_ylim((0, 1))\n",
    "    ax_obj.set_xlabel('Discount')\n",
    "    ax_obj.set_ylabel('Sales')\n",
    "    ax_obj.set_title(subplot_title)"
   ]
  },
  {
   "cell_type": "code",
   "execution_count": null,
   "metadata": {},
   "outputs": [],
   "source": [
    "outliers_fraction = 0.01\n",
    "xx , yy = np.meshgrid(np.linspace(0, 1, 100), np.linspace(0, 1, 100))\n",
    "fig, ax = plt.subplots(1, 3, figsize=(20, 6))\n",
    "\n",
    "ax_objs = [ax[0], ax[1], ax[2]]\n",
    "models = [cblof_model, if_model, ae_model]\n",
    "plot_titles = ['Cluster-based Local Outlier Factor (CBLOF)',\n",
    "               'Isolation Forest',\n",
    "               'Auto-Encoder']\n",
    "\n",
    "for ax_obj, model, plot_title in zip(ax_objs, models, plot_titles):\n",
    "    visualize_anomalies(model=model,\n",
    "                        xx=xx, yy=yy,\n",
    "                        data_df=subset_df,\n",
    "                        ax_obj=ax_obj,\n",
    "                        subplot_title=plot_title)\n",
    "plt.axis('tight');\n"
   ]
  }
 ],
 "metadata": {
  "kernelspec": {
   "display_name": "Python 3",
   "language": "python",
   "name": "python3"
  },
  "language_info": {
   "codemirror_mode": {
    "name": "ipython",
    "version": 3
   },
   "file_extension": ".py",
   "mimetype": "text/x-python",
   "name": "python",
   "nbconvert_exporter": "python",
   "pygments_lexer": "ipython3",
   "version": "3.8.8"
  }
 },
 "nbformat": 4,
 "nbformat_minor": 2
}
